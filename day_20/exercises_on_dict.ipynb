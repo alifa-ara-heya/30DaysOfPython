{
 "metadata": {
  "language_info": {
   "codemirror_mode": {
    "name": "ipython",
    "version": 3
   },
   "file_extension": ".py",
   "mimetype": "text/x-python",
   "name": "python",
   "nbconvert_exporter": "python",
   "pygments_lexer": "ipython3",
   "version": "3.8.5-final"
  },
  "orig_nbformat": 2,
  "kernelspec": {
   "name": "python_defaultSpec_1597642453150",
   "display_name": "Python 3.8.5 32-bit"
  }
 },
 "nbformat": 4,
 "nbformat_minor": 2,
 "cells": [
  {
   "cell_type": "markdown",
   "metadata": {},
   "source": [
    "6-1. Person: Use a dictionary to store information about a person you know. Store their first name, last name, age, and the city in which they live. You should have keys such as first_name , last_name , age , and city . Print each piece of information stored in your dictionary.\n"
   ]
  },
  {
   "cell_type": "code",
   "execution_count": 2,
   "metadata": {
    "tags": []
   },
   "outputs": [
    {
     "output_type": "stream",
     "name": "stdout",
     "text": "I know Tahera Siddiqua. I miss her very much.\nShe is 24 years old.\nShe lives is Chittagong.\n"
    }
   ],
   "source": [
    "person = {\n",
    "    'first_name' : 'Tahera',\n",
    "    'last_name' : 'Siddiqua',\n",
    "    'age' : 24,\n",
    "    'city' : 'Chittagong',\n",
    "}\n",
    "print(f\"I know {person['first_name']} {person['last_name']}. I miss her very much.\")\n",
    "print(f\"She is {person['age']} years old.\")\n",
    "print(f\"She lives is {person['city']}.\")"
   ]
  },
  {
   "cell_type": "markdown",
   "metadata": {},
   "source": [
    "6-2. Favorite Numbers: Use a dictionary to store people’s favorite numbers. Think of five names, and use them as keys in your dictionary. Think of a favorite number for each person, and store each as a value in your dictionary. Print each person’s name and their favorite number. For even more fun, poll a few friends and get some actual data for your program."
   ]
  },
  {
   "cell_type": "code",
   "execution_count": null,
   "metadata": {},
   "outputs": [],
   "source": [
    "person = {\n",
    "    'first_name' : 'Tahera',\n",
    "    'last_name' : 'Siddiqua',\n",
    "    'age' : 24,\n",
    "    'city' : 'Chittagong',\n",
    "}\n",
    "print(f\"I know {person['first_name']} {person['last_name']}.\")\n",
    "print(f\"She is {person['age']} years old.\")\n",
    "print(f\"She lives is {person['city']}.\")"
   ]
  }
 ]
}