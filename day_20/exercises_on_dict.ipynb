{
 "metadata": {
  "language_info": {
   "codemirror_mode": {
    "name": "ipython",
    "version": 3
   },
   "file_extension": ".py",
   "mimetype": "text/x-python",
   "name": "python",
   "nbconvert_exporter": "python",
   "pygments_lexer": "ipython3",
   "version": "3.8.5-final"
  },
  "orig_nbformat": 2,
  "kernelspec": {
   "name": "python_defaultSpec_1598016034279",
   "display_name": "Python 3.8.5 32-bit"
  }
 },
 "nbformat": 4,
 "nbformat_minor": 2,
 "cells": [
  {
   "cell_type": "markdown",
   "metadata": {},
   "source": [
    "Day_20: August/16/2020 <br>\n",
    "In the name 0f Allah.. <br>\n",
    "Me: Alifa <br>\n",
    "Book: Python Crash Course by Eric Matthes (Chapter: 6 (Dictionaries)) <br>\n",
    "Exercises: <br>"
   ]
  },
  {
   "cell_type": "code",
   "execution_count": null,
   "metadata": {},
   "outputs": [],
   "source": [
    "<hr>\n",
    "**6-1. Person:** Use a dictionary to store information about a person you know. Store their first name, last name, age, and the city in which they live. You should have keys such as first_name , last_name , age , and city . Print each piece of information stored in your dictionary.\n"
   ]
  },
  {
   "cell_type": "code",
   "execution_count": 1,
   "metadata": {
    "tags": []
   },
   "outputs": [
    {
     "output_type": "stream",
     "name": "stdout",
     "text": "I know Tahera Siddiqua. I miss her very much.\nShe is 20 years old.\nShe lives is Chittagong.\n"
    }
   ],
   "source": [
    "person = {\n",
    "    'first_name' : 'Tahera',\n",
    "    'last_name' : 'Siddiqua',\n",
    "    'age' : 20,\n",
    "    'city' : 'Chittagong',\n",
    "}\n",
    "print(f\"I know {person['first_name']} {person['last_name']}. I miss her very much.\")\n",
    "print(f\"She is {person['age']} years old.\")\n",
    "print(f\"She lives is {person['city']}.\")"
   ]
  },
  {
   "cell_type": "markdown",
   "metadata": {},
   "source": [
    "<hr>\n",
    "**6-2. Favorite Numbers:** Use a dictionary to store people’s favorite numbers. Think of five names, and use them as keys in your dictionary. Think of a favorite number for each person, and store each as a value in your dictionary. Print each person’s name and their favorite number. For even more fun, poll a few friends and get some actual data for your program."
   ]
  },
  {
   "cell_type": "code",
   "execution_count": 4,
   "metadata": {
    "tags": []
   },
   "outputs": [
    {
     "output_type": "stream",
     "name": "stdout",
     "text": "David loves 4.\nAbdullah loves 6.\nAmatullah loves 9.\nFatima loves 10.\nOhi loves 20.\n"
    }
   ],
   "source": [
    "favorite_numbers = {\n",
    "    'David' : 4,\n",
    "    'Abdullah' : 6,\n",
    "    'Amatullah' : 9,\n",
    "    'Fatima' : 10,\n",
    "    \"Ohi\" : 20,\n",
    "}\n",
    "\n",
    "print(f\"David loves {favorite_numbers['David']}.\")\n",
    "print(f\"Abdullah loves {favorite_numbers['Abdullah']}.\")\n",
    "print(f\"Amatullah loves {favorite_numbers['Amatullah']}.\")\n",
    "print(f\"Fatima loves {favorite_numbers['Fatima']}.\")\n",
    "print(f\"Ohi loves {favorite_numbers['Ohi']}.\")"
   ]
  },
  {
   "cell_type": "markdown",
   "metadata": {},
   "source": [
    "<hr>\n",
    "**6-3. Glossary:** A Python dictionary can be used to model an actual dictionary. However, to avoid confusion, let’s call it a glossary.\n",
    "\n",
    "• Think of five programming words you’ve learned about in the previous chapters. Use these words as the keys in your glossary, and store their meanings as values.\n",
    "\n",
    "• Print each word and its meaning as neatly formatted output. You might print the word followed by a colon and then its meaning, or print the word on one line and then print its meaning indented on a second line. Use the newline character ( \\n ) to insert a blank line between each word-meaning pair in your output."
   ]
  },
  {
   "cell_type": "code",
   "execution_count": 28,
   "metadata": {
    "tags": []
   },
   "outputs": [
    {
     "output_type": "stream",
     "name": "stdout",
     "text": "Traceback: A list of the functions that are executing, printed when an exception occurs.\n\nShort Circuit: When Python is part-way through evaluating a logical expression and stops the evaluation because\n    Python knows the final value for the expression without needing to evaluate the rest of the expression.\n\nLogical Operator: One of the operators that combines boolean expressions: and, or, and not.\n\nAssignment: A statement that assigns a value to a variable.\n\nExprsession: A combination of variables, operators, and values that represents a single result value.\n"
    }
   ],
   "source": [
    "glossary = {\n",
    "    \"traceback\" : \"A list of the functions that are executing, printed when an exception occurs.\",\n",
    "\n",
    "    \"short circuit\" : \"\"\"When Python is part-way through evaluating a logical expression and stops the evaluation because\n",
    "    Python knows the final value for the expression without needing to evaluate the rest of the expression.\"\"\",\n",
    "\n",
    "    \"logical operator\" : \"One of the operators that combines boolean expressions: and, or, and not.\",\n",
    "\n",
    "    \"assignment\" : \"A statement that assigns a value to a variable.\",\n",
    "\n",
    "    \"expression\" : \"A combination of variables, operators, and values that represents a single result value.\",\n",
    "\n",
    "    \"integer\" : \"A type that represents whole numbers.\",\n",
    "\n",
    "    \"mnemonic\" : \"A memory aid. We often give variables mnemonic names to help us remember what is stored in the variable.\",\n",
    "\n",
    "    \"statement\" : \"\"\"A section of code that represents a command or action. \n",
    "    So far, the statements we have seen are assignments and print expression statement.\"\"\",\n",
    "\n",
    "    \"string\" : \"A type that represents sequences of characters.\",\n",
    "    \n",
    "    \"rules of precedence\" : \"\"\"The set of rules governing the order in which expressions involving multiple \n",
    "    operators and operands are evaluated.\"\"\",\n",
    "\n",
    "}\n",
    "\n",
    "print(f\"Traceback: {glossary['traceback']}\")\n",
    "print(f\"\\nShort Circuit: {glossary['short circuit']}\")\n",
    "print(f\"\\nLogical Operator: {glossary['logical operator']}\")\n",
    "print(f\"\\nAssignment: {glossary['assignment']}\")\n",
    "print(f\"\\nExprsession: {glossary['expression']}\")"
   ]
  },
  {
   "cell_type": "markdown",
   "metadata": {},
   "source": [
    "<hr>**6-4. Glossary 2:** Now that you know how to loop through a dictionary, clean up the code from Exercise 6-3 ( page 102 ) by replacing your series of print statements with a loop that runs through the dictionary’s keys and values. When you’re sure that your loop works, add five more Python terms to your glossary. When you run your program again, these new words and meanings should automatically be included in the output."
   ]
  },
  {
   "cell_type": "code",
   "execution_count": 29,
   "metadata": {
    "tags": []
   },
   "outputs": [
    {
     "output_type": "stream",
     "name": "stdout",
     "text": "\nTraceback: A list of the functions that are executing, printed when an exception occurs.\n\nShort Circuit: When Python is part-way through evaluating a logical expression and stops the evaluation because\n    Python knows the final value for the expression without needing to evaluate the rest of the expression.\n\nLogical Operator: One of the operators that combines boolean expressions: and, or, and not.\n\nAssignment: A statement that assigns a value to a variable.\n\nExpression: A combination of variables, operators, and values that represents a single result value.\n\nInteger: A type that represents whole numbers.\n\nMnemonic: A memory aid. We often give variables mnemonic names to help us remember what is stored in the variable.\n\nStatement: A section of code that represents a command or action. \n    So far, the statements we have seen are assignments and print expression statement.\n\nString: A type that represents sequences of characters.\n\nRules Of Precedence: The set of rules governing the order in which expressions involving multiple \n    operators and operands are evaluated.\n"
    }
   ],
   "source": [
    "for term, meanings in glossary.items():\n",
    "    print(f\"\\n{term.title()}: {meanings}\")"
   ]
  },
  {
   "cell_type": "markdown",
   "metadata": {},
   "source": [
    "<hr>\n",
    "**6-5. Rivers:** Make a dictionary containing three major rivers and the country each river runs through. One key-value pair might be 'nile': 'egypt' .\n",
    "\n",
    "• Use a loop to print a sentence about each river, such as The Nile runs through Egypt .\n",
    "\n",
    "• Use a loop to print the name of each river included in the dictionary.\n",
    "\n",
    "• Use a loop to print the name of each country included in the dictionary."
   ]
  },
  {
   "cell_type": "code",
   "execution_count": 31,
   "metadata": {
    "tags": []
   },
   "outputs": [
    {
     "output_type": "stream",
     "name": "stdout",
     "text": "Nile runs through Egypt.\nVolga runs through Russia.\nPadma runs through Bangladesh.\n"
    }
   ],
   "source": [
    "rivers = {\n",
    "    \"nile\" : \"egypt\",\n",
    "    \"volga\" : \"russia\",\n",
    "    \"padma\" : \"bangladesh\",\n",
    "}\n",
    "for river, country in rivers.items():\n",
    "    print(f\"{river.title()} runs through {country.title()}.\")   "
   ]
  },
  {
   "cell_type": "code",
   "execution_count": 33,
   "metadata": {
    "tags": []
   },
   "outputs": [
    {
     "output_type": "stream",
     "name": "stdout",
     "text": "The rivers mentioned here: \nNile\nVolga\nPadma\n"
    }
   ],
   "source": [
    "print(\"The rivers mentioned here: \")\n",
    "for river in rivers.keys():\n",
    "    print(river.title())"
   ]
  },
  {
   "cell_type": "code",
   "execution_count": 35,
   "metadata": {
    "tags": []
   },
   "outputs": [
    {
     "output_type": "stream",
     "name": "stdout",
     "text": "The countries mentioned here:\nEgypt\nRussia\nBangladesh\n"
    }
   ],
   "source": [
    "print(\"The countries mentioned here:\")\n",
    "for country in rivers.values():\n",
    "    print(country.title())"
   ]
  },
  {
   "cell_type": "markdown",
   "metadata": {},
   "source": [
    "<hr>\n",
    "**6-6. Polling:** Use the code in favorite_languages.py ( page 104 ).\n",
    "\n",
    "• Make a list of people who should take the favorite languages poll. Include some names that are already in the dictionary and some that are not.\n",
    "\n",
    "• Loop through the list of people who should take the poll. If they have already taken the poll, print a message thanking them for responding. If they have not yet taken the poll, print a message inviting them to take the poll."
   ]
  },
  {
   "cell_type": "code",
   "execution_count": 3,
   "metadata": {
    "tags": []
   },
   "outputs": [
    {
     "output_type": "stream",
     "name": "stdout",
     "text": "Thank you Jen for taking the poll.\nThank you Sarah for taking the poll.\nThank you Phil for taking the poll.\nThank you Edward for taking the poll.\nDear Bella, you are invited to take the poll.\nDear Rose, you are invited to take the poll.\n"
    }
   ],
   "source": [
    "favorite_languages = {\n",
    "    'jen' : 'python',\n",
    "    'sarah' : 'c',\n",
    "    'edward' : 'ruby',\n",
    "    'phil' : 'python',\n",
    "}\n",
    "people = ['jen', 'sarah', 'phil', 'edward', 'bella', 'rose']\n",
    "for name in people:\n",
    "    if name in favorite_languages:\n",
    "        print(f\"Thank you {name.title()} for taking the poll.\")\n",
    "    else:\n",
    "        print(f\"Dear {name.title()}, you are invited to take the poll.\")"
   ]
  },
  {
   "cell_type": "markdown",
   "metadata": {},
   "source": [
    "<hr>\n",
    "**6-7. People:** Start with the program you wrote for Exercise 6-1. Make two new dictionaries representing different people, and store all three dictionaries in a list called people . Loop through your list of people. As you loop through the list, print everything you know about each person."
   ]
  },
  {
   "cell_type": "code",
   "execution_count": 29,
   "metadata": {
    "tags": []
   },
   "outputs": [
    {
     "output_type": "stream",
     "name": "stdout",
     "text": "{'first_name': 'tahera', 'last_name': 'siddiqua', 'age': 20, 'city': 'chittagong'}\n{'first_name': 'muhammad', 'last_name': 'ohi', 'age': 6, 'city': 'dhaka'}\n{'fisrt_name': 'amatullah', 'last_name': 'ayesha', 'age': 25, 'city': 'iraq'}\n"
    }
   ],
   "source": [
    "tahera = {\n",
    "    'first_name' : 'tahera',\n",
    "    'last_name' : 'siddiqua',\n",
    "    'age' : 20,\n",
    "    'city' : 'chittagong',\n",
    "    }\n",
    "ohi = {\n",
    "    'first_name' : 'muhammad',\n",
    "    'last_name' : 'ohi',\n",
    "    'age' : 6,\n",
    "    'city' : 'dhaka',\n",
    "    }\n",
    "ayesha = {\n",
    "    'fisrt_name' : 'amatullah',\n",
    "    'last_name' : 'ayesha',\n",
    "    'age': 25,\n",
    "    'city' : 'iraq'\n",
    "    }\n",
    "people = [tahera, ohi, ayesha]\n",
    "for person in people:\n",
    "    print(person)"
   ]
  },
  {
   "cell_type": "code",
   "execution_count": 28,
   "metadata": {
    "tags": []
   },
   "outputs": [
    {
     "output_type": "stream",
     "name": "stdout",
     "text": "Tahera Siddiqua, of Chittagong, is 20 years old.\nMuhammad Ohi, of Dhaka, is 6 years old.\nAmatullah Ayesha, of Iraq, is 25 years old.\n"
    }
   ],
   "source": [
    "# Author's way:\n",
    "# Making an empty list to store people in:\n",
    "people = []\n",
    "\n",
    "# Defining some people, adding them to the list:\n",
    "person = {\n",
    "    'first_name' : 'tahera',\n",
    "    'last_name' : 'siddiqua',\n",
    "    'age' : 20,\n",
    "    'city' : 'chittagong',\n",
    "    }\n",
    "people.append(person)\n",
    "\n",
    "person = {\n",
    "    'first_name' : 'muhammad',\n",
    "    'last_name' : 'ohi',\n",
    "    'age' : 6,\n",
    "    'city' : 'dhaka',\n",
    "    }\n",
    "people.append(person)\n",
    "\n",
    "person = {\n",
    "    'first_name' : 'amatullah',\n",
    "    'last_name' : 'ayesha',\n",
    "    'age': 25,\n",
    "    'city' : 'iraq'\n",
    "    }\n",
    "people.append(person)\n",
    "\n",
    "# Displaying all of the information in the dictionary.\n",
    "for person in people:\n",
    "    name = person['first_name'].title() + \" \" + person['last_name'].title()\n",
    "    age = str(person['age'])\n",
    "    city = person['city'].title()\n",
    "\n",
    "    print(name + \", of \" + city + ', is ' + age + \" years old.\")\n",
    "\n"
   ]
  },
  {
   "cell_type": "code",
   "execution_count": 15,
   "metadata": {
    "tags": []
   },
   "outputs": [
    {
     "output_type": "stream",
     "name": "stdout",
     "text": "I miss Tahera.\nI wish you were always a little baby, Ohi.\nYou are my dream girl, Ayesha.\n"
    }
   ],
   "source": [
    "\n",
    "#A little fun:\n",
    "tahera = {\n",
    "    'first_name' : 'tahera',\n",
    "    'last_name' : 'siddiqua',\n",
    "    'age' : 20,\n",
    "    'city' : 'chittagong',\n",
    "    }\n",
    "ohi = {\n",
    "    'first_name' : 'muhammad',\n",
    "    'last_name' : 'ohi',\n",
    "    'age' : 6,\n",
    "    'city' : 'dhaka',\n",
    "    }\n",
    "ayesha = {\n",
    "    'fisrt_name' : 'amatullah',\n",
    "    'last_name' : 'ayesha',\n",
    "    }\n",
    "people = [tahera, ohi, ayesha]\n",
    "\n",
    "if people[0] == tahera:\n",
    "    print(\"I miss \" + tahera['first_name'].title() + '.')\n",
    "if people[1] == ohi:\n",
    "    print(\"I wish you were always a little baby, \" + ohi['last_name'].title() + '.')\n",
    "if people[2] == ayesha:\n",
    "    print(\"You are my dream girl, \" + ayesha['last_name'].title() + '.')"
   ]
  },
  {
   "cell_type": "markdown",
   "metadata": {},
   "source": [
    "<hr>\n",
    "**6-8. Pets:** Make several dictionaries, where the name of each dictionary is the name of a pet. In each dictionary, include the kind of animal and the owner’s name. Store these dictionaries in a list called pets . Next, loop through your list and as you do print everything you know about each pet."
   ]
  },
  {
   "cell_type": "code",
   "execution_count": 31,
   "metadata": {
    "tags": []
   },
   "outputs": [
    {
     "output_type": "stream",
     "name": "stdout",
     "text": "Ohi has a dog. It is very cute.\nAlfi has a cat. It is very cute.\nShahar has a chicken. It is very cute.\n"
    }
   ],
   "source": [
    "pets = []\n",
    "\n",
    "pet = {\n",
    "    'kind' : 'dog',\n",
    "    'owner' : 'ohi',\n",
    "}\n",
    "pets.append(pet)\n",
    "\n",
    "pet = {\n",
    "    'kind' : 'cat',\n",
    "    'owner' : 'alfi',\n",
    "}\n",
    "pets.append(pet)\n",
    "\n",
    "pet = {\n",
    "    'kind' : 'chicken',\n",
    "    'owner' : 'shahar',\n",
    "}\n",
    "pets.append(pet)\n",
    "\n",
    "for pet in pets:\n",
    "    type = pet['kind']\n",
    "    owner = pet['owner']\n",
    "    print(f\"{owner.title()} has a {type}. It is very cute.\")"
   ]
  },
  {
   "cell_type": "code",
   "execution_count": 51,
   "metadata": {
    "tags": []
   },
   "outputs": [
    {
     "output_type": "stream",
     "name": "stdout",
     "text": "\nHere's what I know about Piki:\n\tname: Piki\n\tkind: Dog\n\towner: Ohi\n\nHere's what I know about Riku:\n\tname: Riku\n\tkind: Cat\n\towner: Alfi\n\nHere's what I know about Pilu:\n\tname: Pilu\n\tkind: Chicken\n\towner: Shahar\n"
    }
   ],
   "source": [
    "pets = []\n",
    "\n",
    "pet = {\n",
    "    'name' : 'piki',\n",
    "    'kind' : 'dog',\n",
    "    'owner' : 'ohi',\n",
    "}\n",
    "pets.append(pet)\n",
    "\n",
    "pet = {\n",
    "    'name' : 'riku',\n",
    "    'kind' : 'cat',\n",
    "    'owner' : 'alfi',\n",
    "}\n",
    "pets.append(pet)\n",
    "\n",
    "pet = {\n",
    "    'name' : 'pilu',\n",
    "    'kind' : 'chicken',\n",
    "    'owner' : 'shahar',\n",
    "}\n",
    "pets.append(pet)\n",
    "\n",
    "for pet in pets:\n",
    "    print(f\"\\nHere's what I know about {pet['name'].title()}:\")\n",
    "    for info, description in pet.items():\n",
    "        print(f\"\\t{info}: {description.title()}\")"
   ]
  },
  {
   "cell_type": "markdown",
   "metadata": {},
   "source": [
    "<hr>\n",
    "**6-9. Favorite Places:** Make a dictionary called favorite_places. Think of three names to use as keys in the dictionary, and store one to three favorite places for each person. To make this exercise a bit more interesting, ask some friends to name a few of their favorite places. Loop through the dictionary, and print each person’s name and their favorite places."
   ]
  },
  {
   "cell_type": "code",
   "execution_count": 34,
   "metadata": {
    "tags": []
   },
   "outputs": [
    {
     "output_type": "stream",
     "name": "stdout",
     "text": "Ohi loves Karnaphuli very much.\nAlfi loves Parki Beach very much.\nShahar loves Dhaka very much.\n"
    }
   ],
   "source": [
    "favorite_places = {\n",
    "    'ohi' : 'karnaphuli',\n",
    "    'alfi' : 'parki beach',\n",
    "    'shahar' : 'dhaka',\n",
    "}\n",
    "for name, place in favorite_places.items():\n",
    "    print(f\"{name.title()} loves {place.title()} very much.\")"
   ]
  },
  {
   "cell_type": "code",
   "execution_count": 47,
   "metadata": {
    "tags": []
   },
   "outputs": [
    {
     "output_type": "stream",
     "name": "stdout",
     "text": "\n Ohi likes the following places: \n- Karnaphuli\n- Sylhet\n- Rajshahi\n\n Alfi likes the following places: \n- Parki Beach\n- Padma\n\n Shahar likes the following places: \n- Dhaka\n- Barishal\n"
    }
   ],
   "source": [
    "# Author's way:\n",
    "favorite_places = {\n",
    "    'ohi' : ['karnaphuli', 'sylhet', 'rajshahi'],\n",
    "    'alfi' : ['parki beach', 'padma'], \n",
    "    'shahar' : ['dhaka', 'barishal'],\n",
    "}\n",
    "for name, places in favorite_places.items():\n",
    "    print(f\"\\n {name.title()} likes the following places: \")\n",
    "    for place in places:\n",
    "        print(f\"- {place.title()}\")"
   ]
  },
  {
   "cell_type": "markdown",
   "metadata": {},
   "source": [
    "<hr>\n",
    "**6-10. Favorite Numbers:** Modify your program from Exercise 6-2 ( page 102 ) so each person can have more than one favorite number. Then print each person’s name along with their favorite numbers."
   ]
  },
  {
   "cell_type": "code",
   "execution_count": 46,
   "metadata": {
    "tags": []
   },
   "outputs": [
    {
     "output_type": "stream",
     "name": "stdout",
     "text": "\nDavid's favorite numbers are: \n   4\n\nAbdullah's favorite numbers are: \n   6\n\nAmatullah's favorite numbers are: \n   9\n   5\n\nFatima's favorite numbers are: \n   10\n   5\n   8\n\nOhi's favorite numbers are: \n   20\n\nRitu's favorite numbers are: \n   25\n   6\n"
    }
   ],
   "source": [
    "favorite_numbers = {\n",
    "    'david' : [4],\n",
    "    'abdullah' : [6],\n",
    "    'amatullah' : [9, 5],\n",
    "    'fatima' : [10, 5, 8],\n",
    "    'ohi' : [20],\n",
    "    'ritu' : [25, 6]\n",
    "}\n",
    "for name, numbers in favorite_numbers.items():\n",
    "    print(f\"\\n{name.title()}'s favorite numbers are: \")\n",
    "    for number in numbers:\n",
    "        print(f\"   {number}\")"
   ]
  },
  {
   "cell_type": "markdown",
   "metadata": {},
   "source": [
    "<hr>\n",
    "**6-11. Cities:** Make a dictionary called cities . Use the names of three cities as keys in your dictionary. Create a dictionary of information about each city and include the country that the city is in, its approximate population, and one fact about that city. The keys for each city’s dictionary should be something like country , population , and fact . Print the name of each city and all of the information you have stored about it."
   ]
  },
  {
   "cell_type": "code",
   "execution_count": 1,
   "metadata": {
    "tags": []
   },
   "outputs": [
    {
     "output_type": "stream",
     "name": "stdout",
     "text": "\nCity: Dhaka\n\tCountry: Bangladesh\n\tPopulation: 8.960 million\n\tA short description: This is the capital of Bangladesh. Once Dhaka was a beautiful city, but now it's charms are long gone due to heavy pollution.\n\nCity: Chittagong\n\tCountry: Bangladesh\n\tPopulation: 2.592 million\n\tA short description: Though this is heavily polluted either, but the closeness of the mountain and see beaches has maintained its serenity. I love this city and always will.\n\nCity: Sylhet\n\tCountry: Bangladesh\n\tPopulation: Bangladesh\n\tA short description: Oh, the tea gardens, mountains, natural water reservoir, and the heavy rain make this city amazing.\n\nCity: Aleppo\n\tCountry: Syria\n\tPopulation: 4.6 milion\n\tA short description: Once it was a beautiful city, but today there is nothing but destruction. And the world will say nothing about them. Because the majority of people are Muslims here.\n"
    }
   ],
   "source": [
    "cities = {\n",
    "    'Dhaka' : {\n",
    "        'country' : 'Bangladesh',\n",
    "        'population' : '8.960 million',\n",
    "        'fact' : 'This is the capital of Bangladesh. Once Dhaka was a beautiful city, but now it\\'s charms are long gone due to heavy pollution.',\n",
    "    },\n",
    "    'Chittagong' : {\n",
    "        'country' : 'Bangladesh',\n",
    "        'population' : '2.592 million',\n",
    "        'fact' : 'Though this is heavily polluted either, but the closeness of the mountain and see beaches has maintained its serenity. I love this city and always will.',\n",
    "    },\n",
    "    'Sylhet' : {\n",
    "        'country' : 'Bangladesh',\n",
    "        'population' : 'Bangladesh',\n",
    "        'fact': 'Oh, the tea gardens, mountains, natural water reservoir, and the heavy rain make this city amazing.',\n",
    "    },\n",
    "    'Aleppo' : {\n",
    "        'country' : 'Syria',\n",
    "        'population' : '4.6 milion',\n",
    "        'fact' : 'Once it was a beautiful city, but today there is nothing but destruction. And the world will say nothing about them. Because the majority of people are Muslims here.'\n",
    "    },\n",
    "}\n",
    "for city, city_info in cities.items():\n",
    "    print(f\"\\nCity: {city}\")\n",
    "    country = city_info['country'].title()\n",
    "    population = city_info['population']\n",
    "    fact = city_info['fact']\n",
    "    print(f'\\tCountry: {country}')\n",
    "    print(f'\\tPopulation: {population}')\n",
    "    print(f'\\tA short description: {fact}')\n",
    "\n",
    "    "
   ]
  }
 ]
}