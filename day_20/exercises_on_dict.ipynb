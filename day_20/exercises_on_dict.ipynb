{
 "metadata": {
  "language_info": {
   "codemirror_mode": {
    "name": "ipython",
    "version": 3
   },
   "file_extension": ".py",
   "mimetype": "text/x-python",
   "name": "python",
   "nbconvert_exporter": "python",
   "pygments_lexer": "ipython3",
   "version": "3.8.5-final"
  },
  "orig_nbformat": 2,
  "kernelspec": {
   "name": "python_defaultSpec_1597674809149",
   "display_name": "Python 3.8.5 32-bit"
  }
 },
 "nbformat": 4,
 "nbformat_minor": 2,
 "cells": [
  {
   "cell_type": "markdown",
   "metadata": {},
   "source": [
    "Day_20: August/16/2020 <br>\n",
    "In the name 0f Allah.. <br>\n",
    "Me: Alifa <br>\n",
    "Book: Python Crash Course by Eric Matthes (Chapter: 6 (Dictionaries)) <br>\n",
    "Exercises: <br>"
   ]
  },
  {
   "cell_type": "markdown",
   "metadata": {},
   "source": [
    "**6-1. Person:** Use a dictionary to store information about a person you know. Store their first name, last name, age, and the city in which they live. You should have keys such as first_name , last_name , age , and city . Print each piece of information stored in your dictionary.\n"
   ]
  },
  {
   "cell_type": "code",
   "execution_count": 2,
   "metadata": {
    "tags": []
   },
   "outputs": [
    {
     "output_type": "stream",
     "name": "stdout",
     "text": "I know Tahera Siddiqua. I miss her very much.\nShe is 24 years old.\nShe lives is Chittagong.\n"
    }
   ],
   "source": [
    "person = {\n",
    "    'first_name' : 'Tahera',\n",
    "    'last_name' : 'Siddiqua',\n",
    "    'age' : 24,\n",
    "    'city' : 'Chittagong',\n",
    "}\n",
    "print(f\"I know {person['first_name']} {person['last_name']}. I miss her very much.\")\n",
    "print(f\"She is {person['age']} years old.\")\n",
    "print(f\"She lives is {person['city']}.\")"
   ]
  },
  {
   "cell_type": "markdown",
   "metadata": {},
   "source": [
    "**6-2. Favorite Numbers:** Use a dictionary to store people’s favorite numbers. Think of five names, and use them as keys in your dictionary. Think of a favorite number for each person, and store each as a value in your dictionary. Print each person’s name and their favorite number. For even more fun, poll a few friends and get some actual data for your program."
   ]
  },
  {
   "cell_type": "code",
   "execution_count": 4,
   "metadata": {
    "tags": []
   },
   "outputs": [
    {
     "output_type": "stream",
     "name": "stdout",
     "text": "David loves 4.\nAbdullah loves 6.\nAmatullah loves 9.\nFatima loves 10.\nOhi loves 20.\n"
    }
   ],
   "source": [
    "favorite_numbers = {\n",
    "    'David' : 4,\n",
    "    'Abdullah' : 6,\n",
    "    'Amatullah' : 9,\n",
    "    'Fatima' : 10,\n",
    "    \"Ohi\" : 20,\n",
    "}\n",
    "\n",
    "print(f\"David loves {favorite_numbers['David']}.\")\n",
    "print(f\"Abdullah loves {favorite_numbers['Abdullah']}.\")\n",
    "print(f\"Amatullah loves {favorite_numbers['Amatullah']}.\")\n",
    "print(f\"Fatima loves {favorite_numbers['Fatima']}.\")\n",
    "print(f\"Ohi loves {favorite_numbers['Ohi']}.\")"
   ]
  },
  {
   "cell_type": "markdown",
   "metadata": {},
   "source": [
    "**6-3. Glossary:** A Python dictionary can be used to model an actual dictionary. However, to avoid confusion, let’s call it a glossary.\n",
    "\n",
    "• Think of five programming words you’ve learned about in the previous chapters. Use these words as the keys in your glossary, and store their meanings as values.\n",
    "\n",
    "• Print each word and its meaning as neatly formatted output. You might print the word followed by a colon and then its meaning, or print the word on one line and then print its meaning indented on a second line. Use the newline character ( \\n ) to insert a blank line between each word-meaning pair in your output."
   ]
  },
  {
   "cell_type": "code",
   "execution_count": 28,
   "metadata": {
    "tags": []
   },
   "outputs": [
    {
     "output_type": "stream",
     "name": "stdout",
     "text": "Traceback: A list of the functions that are executing, printed when an exception occurs.\n\nShort Circuit: When Python is part-way through evaluating a logical expression and stops the evaluation because\n    Python knows the final value for the expression without needing to evaluate the rest of the expression.\n\nLogical Operator: One of the operators that combines boolean expressions: and, or, and not.\n\nAssignment: A statement that assigns a value to a variable.\n\nExprsession: A combination of variables, operators, and values that represents a single result value.\n"
    }
   ],
   "source": [
    "glossary = {\n",
    "    \"traceback\" : \"A list of the functions that are executing, printed when an exception occurs.\",\n",
    "\n",
    "    \"short circuit\" : \"\"\"When Python is part-way through evaluating a logical expression and stops the evaluation because\n",
    "    Python knows the final value for the expression without needing to evaluate the rest of the expression.\"\"\",\n",
    "\n",
    "    \"logical operator\" : \"One of the operators that combines boolean expressions: and, or, and not.\",\n",
    "\n",
    "    \"assignment\" : \"A statement that assigns a value to a variable.\",\n",
    "\n",
    "    \"expression\" : \"A combination of variables, operators, and values that represents a single result value.\",\n",
    "\n",
    "    \"integer\" : \"A type that represents whole numbers.\",\n",
    "\n",
    "    \"mnemonic\" : \"A memory aid. We often give variables mnemonic names to help us remember what is stored in the variable.\",\n",
    "\n",
    "    \"statement\" : \"\"\"A section of code that represents a command or action. \n",
    "    So far, the statements we have seen are assignments and print expression statement.\"\"\",\n",
    "\n",
    "    \"string\" : \"A type that represents sequences of characters.\",\n",
    "    \n",
    "    \"rules of precedence\" : \"\"\"The set of rules governing the order in which expressions involving multiple \n",
    "    operators and operands are evaluated.\"\"\",\n",
    "\n",
    "}\n",
    "\n",
    "print(f\"Traceback: {glossary['traceback']}\")\n",
    "print(f\"\\nShort Circuit: {glossary['short circuit']}\")\n",
    "print(f\"\\nLogical Operator: {glossary['logical operator']}\")\n",
    "print(f\"\\nAssignment: {glossary['assignment']}\")\n",
    "print(f\"\\nExprsession: {glossary['expression']}\")"
   ]
  },
  {
   "cell_type": "markdown",
   "metadata": {},
   "source": [
    "**6-4. Glossary 2:** Now that you know how to loop through a dictionary, clean up the code from Exercise 6-3 ( page 102 ) by replacing your series of print statements with a loop that runs through the dictionary’s keys and values. When you’re sure that your loop works, add five more Python terms to your glossary. When you run your program again, these new words and meanings should automatically be included in the output."
   ]
  },
  {
   "cell_type": "code",
   "execution_count": 29,
   "metadata": {
    "tags": []
   },
   "outputs": [
    {
     "output_type": "stream",
     "name": "stdout",
     "text": "\nTraceback: A list of the functions that are executing, printed when an exception occurs.\n\nShort Circuit: When Python is part-way through evaluating a logical expression and stops the evaluation because\n    Python knows the final value for the expression without needing to evaluate the rest of the expression.\n\nLogical Operator: One of the operators that combines boolean expressions: and, or, and not.\n\nAssignment: A statement that assigns a value to a variable.\n\nExpression: A combination of variables, operators, and values that represents a single result value.\n\nInteger: A type that represents whole numbers.\n\nMnemonic: A memory aid. We often give variables mnemonic names to help us remember what is stored in the variable.\n\nStatement: A section of code that represents a command or action. \n    So far, the statements we have seen are assignments and print expression statement.\n\nString: A type that represents sequences of characters.\n\nRules Of Precedence: The set of rules governing the order in which expressions involving multiple \n    operators and operands are evaluated.\n"
    }
   ],
   "source": [
    "for term, meanings in glossary.items():\n",
    "    print(f\"\\n{term.title()}: {meanings}\")"
   ]
  },
  {
   "cell_type": "markdown",
   "metadata": {},
   "source": [
    "**6-5. Rivers:** Make a dictionary containing three major rivers and the country each river runs through. One key-value pair might be 'nile': 'egypt' .\n",
    "\n",
    "• Use a loop to print a sentence about each river, such as The Nile runs through Egypt .\n",
    "\n",
    "• Use a loop to print the name of each river included in the dictionary.\n",
    "\n",
    "• Use a loop to print the name of each country included in the dictionary."
   ]
  },
  {
   "cell_type": "code",
   "execution_count": 31,
   "metadata": {
    "tags": []
   },
   "outputs": [
    {
     "output_type": "stream",
     "name": "stdout",
     "text": "Nile runs through Egypt.\nVolga runs through Russia.\nPadma runs through Bangladesh.\n"
    }
   ],
   "source": [
    "rivers = {\n",
    "    \"nile\" : \"egypt\",\n",
    "    \"volga\" : \"russia\",\n",
    "    \"padma\" : \"bangladesh\",\n",
    "}\n",
    "for river, country in rivers.items():\n",
    "    print(f\"{river.title()} runs through {country.title()}.\")   "
   ]
  },
  {
   "cell_type": "code",
   "execution_count": 33,
   "metadata": {
    "tags": []
   },
   "outputs": [
    {
     "output_type": "stream",
     "name": "stdout",
     "text": "The rivers mentioned here: \nNile\nVolga\nPadma\n"
    }
   ],
   "source": [
    "print(\"The rivers mentioned here: \")\n",
    "for river in rivers.keys():\n",
    "    print(river.title())"
   ]
  },
  {
   "cell_type": "code",
   "execution_count": 35,
   "metadata": {
    "tags": []
   },
   "outputs": [
    {
     "output_type": "stream",
     "name": "stdout",
     "text": "The countries mentioned here:\nEgypt\nRussia\nBangladesh\n"
    }
   ],
   "source": [
    "print(\"The countries mentioned here:\")\n",
    "for country in rivers.values():\n",
    "    print(country.title())"
   ]
  },
  {
   "cell_type": "markdown",
   "metadata": {},
   "source": [
    "**6-6. Polling:** Use the code in favorite_languages.py ( page 104 ).\n",
    "\n",
    "• Make a list of people who should take the favorite languages poll. Include some names that are already in the dictionary and some that are not.\n",
    "\n",
    "• Loop through the list of people who should take the poll. If they have already taken the poll, print a message thanking them for responding. If they have not yet taken the poll, print a message inviting them to take the poll."
   ]
  },
  {
   "cell_type": "code",
   "execution_count": 3,
   "metadata": {
    "tags": []
   },
   "outputs": [
    {
     "output_type": "stream",
     "name": "stdout",
     "text": "Thank you Jen for taking the poll.\nThank you Sarah for taking the poll.\nThank you Phil for taking the poll.\nThank you Edward for taking the poll.\nDear Bella, you are invited to take the poll.\nDear Rose, you are invited to take the poll.\n"
    }
   ],
   "source": [
    "favorite_languages = {\n",
    "    'jen' : 'python',\n",
    "    'sarah' : 'c',\n",
    "    'edward' : 'ruby',\n",
    "    'phil' : 'python',\n",
    "}\n",
    "people = ['jen', 'sarah', 'phil', 'edward', 'bella', 'rose']\n",
    "for name in people:\n",
    "    if name in favorite_languages:\n",
    "        print(f\"Thank you {name.title()} for taking the poll.\")\n",
    "    else:\n",
    "        print(f\"Dear {name.title()}, you are invited to take the poll.\")"
   ]
  }
 ]
}