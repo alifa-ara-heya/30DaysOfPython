{
 "metadata": {
  "language_info": {
   "codemirror_mode": {
    "name": "ipython",
    "version": 3
   },
   "file_extension": ".py",
   "mimetype": "text/x-python",
   "name": "python",
   "nbconvert_exporter": "python",
   "pygments_lexer": "ipython3",
   "version": "3.8.5-final"
  },
  "orig_nbformat": 2,
  "kernelspec": {
   "name": "python_defaultSpec_1597677818112",
   "display_name": "Python 3.8.5 32-bit"
  }
 },
 "nbformat": 4,
 "nbformat_minor": 2,
 "cells": [
  {
   "cell_type": "markdown",
   "metadata": {},
   "source": [
    "Day_20: August/17/2020 <br>\n",
    "In the name 0f Allah.. <br>\n",
    "Me: Alifa <br>\n",
    "Book : Python Crash Course by Eric Matthes (Chapter: 6 (Dictionaries))"
   ]
  },
  {
   "cell_type": "markdown",
   "metadata": {},
   "source": [
    "### Nesting:"
   ]
  },
  {
   "cell_type": "code",
   "execution_count": 1,
   "metadata": {
    "tags": []
   },
   "outputs": [
    {
     "output_type": "stream",
     "name": "stdout",
     "text": "{'color': 'green', 'points': 5}\n{'color': 'yellow', 'points': 10}\n{'color': 'red', 'points': 15}\n"
    }
   ],
   "source": [
    "# A list of dictionaries:\n",
    "alien_0 = {'color' : 'green', 'points' : 5}\n",
    "alien_1 = {'color' : 'yellow', 'points' : 10}\n",
    "alien_2 = {'color' : 'red', 'points' : 15}\n",
    "aliens = [alien_0, alien_1, alien_2]\n",
    "for alien in aliens:\n",
    "    print(alien)"
   ]
  },
  {
   "cell_type": "code",
   "execution_count": 2,
   "metadata": {
    "tags": []
   },
   "outputs": [
    {
     "output_type": "stream",
     "name": "stdout",
     "text": "{'color': 'green', 'points': 5, 'speed': 'medium'}\n{'color': 'green', 'points': 5, 'speed': 'medium'}\n{'color': 'green', 'points': 5, 'speed': 'medium'}\n{'color': 'green', 'points': 5, 'speed': 'medium'}\n{'color': 'green', 'points': 5, 'speed': 'medium'}\n...\nTotal number of aliens: 30\n"
    }
   ],
   "source": [
    "# A more realistic example:\n",
    "# Making an empty list for storing aliens:\n",
    "aliens = []\n",
    "# Making 30 green aliens:\n",
    "for alien_number in range(30):\n",
    "    new_alien = {'color' : 'green', 'points' : 5, 'speed': 'medium'}\n",
    "    aliens.append(new_alien)\n",
    "\n",
    "# let's show the first 5 aliens.\n",
    "for alien in aliens[:5]:\n",
    "    print(alien)\n",
    "print(\"...\")\n",
    "\n",
    "# Show how many aliens have been created.\n",
    "print('Total number of aliens: ' + str(len(aliens)))"
   ]
  },
  {
   "cell_type": "code",
   "execution_count": 1,
   "metadata": {
    "tags": []
   },
   "outputs": [
    {
     "output_type": "stream",
     "name": "stdout",
     "text": "{'color': 'yellow', 'points': 10, 'speed': 'medium'}\n{'color': 'yellow', 'points': 10, 'speed': 'medium'}\n{'color': 'yellow', 'points': 10, 'speed': 'medium'}\n{'color': 'green', 'points': 5, 'speed': 'medium'}\n{'color': 'green', 'points': 5, 'speed': 'medium'}\n"
    }
   ],
   "source": [
    "# to change the first three aliens to yellow, medium-speed aliens worth 10 points each, we could do this:\n",
    "aliens = []\n",
    "for alien_number in range(30):\n",
    "    new_alien = {'color' : 'green', 'points' : 5, 'speed': 'medium'}\n",
    "    aliens.append(new_alien)\n",
    "\n",
    "for alien in aliens[0 : 3]:\n",
    "    if alien['color'] == 'green':\n",
    "        alien['color'] = 'yellow'\n",
    "        alien['speed'] = 'medium'\n",
    "        alien['points'] = 10\n",
    "\n",
    "# showing the first 5 aliens:\n",
    "for alien in aliens[:5]:\n",
    "    print(alien)"
   ]
  },
  {
   "cell_type": "markdown",
   "metadata": {},
   "source": [
    "Book : You could expand this loop by adding an elif block that turns yellow aliens into red, fast-moving ones worth 15 points each. Without showing the entire program again, that loop would look like this:"
   ]
  },
  {
   "cell_type": "code",
   "execution_count": 16,
   "metadata": {
    "tags": []
   },
   "outputs": [
    {
     "output_type": "stream",
     "name": "stdout",
     "text": "{'color': 'yellow', 'points': 10, 'speed': 'medium'}\n{'color': 'yellow', 'points': 10, 'speed': 'medium'}\n{'color': 'yellow', 'points': 10, 'speed': 'medium'}\n{'color': 'red', 'points': 15, 'speed': 'fast'}\n{'color': 'red', 'points': 15, 'speed': 'fast'}\n{'color': 'green', 'points': 5, 'speed': 'medium'}\n{'color': 'green', 'points': 5, 'speed': 'medium'}\n{'color': 'green', 'points': 5, 'speed': 'medium'}\n"
    }
   ],
   "source": [
    "aliens = []\n",
    "for alien_number in range(30):\n",
    "    new_alien = {'color' : 'green', 'points' : 5, 'speed': 'medium'}\n",
    "    aliens.append(new_alien)\n",
    "\n",
    "for alien in aliens[0 : 3]:\n",
    "    if alien['color'] == 'green':\n",
    "        alien['color'] = 'yellow'\n",
    "        alien['speed'] = 'medium'\n",
    "        alien['points'] = 10\n",
    "\n",
    "for alien in aliens[3 : 5]:\n",
    "    if alien['color'] == 'green':\n",
    "        alien['color'] = 'red'\n",
    "        alien['speed'] = 'fast'\n",
    "        alien['points'] = 15\n",
    "\n",
    "# showing the firat 8 elements:\n",
    "for alien in aliens[:8]:\n",
    "    print(alien)\n"
   ]
  },
  {
   "cell_type": "markdown",
   "metadata": {},
   "source": [
    "### A list in a dictionary:"
   ]
  },
  {
   "cell_type": "code",
   "execution_count": 17,
   "metadata": {
    "tags": []
   },
   "outputs": [
    {
     "output_type": "stream",
     "name": "stdout",
     "text": "You ordered a thick-crust pizza with the following toppings:\n\tmushrooms\n\textra cheese\n"
    }
   ],
   "source": [
    "pizza = {\n",
    "    'crust' : 'thick',\n",
    "    'toppings' : ['mushrooms', 'extra cheese'],\n",
    "}\n",
    "# summarize the order:\n",
    "print(f\"You ordered a {pizza['crust']}-crust pizza with the following toppings:\")\n",
    "for topping in pizza['toppings']:\n",
    "    print(\"\\t\" + topping)"
   ]
  },
  {
   "cell_type": "code",
   "execution_count": null,
   "metadata": {},
   "outputs": [],
   "source": []
  }
 ]
}
