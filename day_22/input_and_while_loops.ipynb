{
 "metadata": {
  "language_info": {
   "codemirror_mode": {
    "name": "ipython",
    "version": 3
   },
   "file_extension": ".py",
   "mimetype": "text/x-python",
   "name": "python",
   "nbconvert_exporter": "python",
   "pygments_lexer": "ipython3",
   "version": "3.8.5-final"
  },
  "orig_nbformat": 2,
  "kernelspec": {
   "name": "python_defaultSpec_1598538372792",
   "display_name": "Python 3.8.5 32-bit"
  }
 },
 "nbformat": 4,
 "nbformat_minor": 2,
 "cells": [
  {
   "cell_type": "markdown",
   "metadata": {},
   "source": [
    "day_22 <br>\n",
    "me: Alifa <br>\n",
    "Book: \"python crash course\" <br>\n",
    "chapter - 7 (User input and while loops)"
   ]
  },
  {
   "cell_type": "code",
   "execution_count": 1,
   "metadata": {
    "tags": []
   },
   "outputs": [
    {
     "output_type": "stream",
     "name": "stdout",
     "text": "\nHello, Amatullah!\n"
    }
   ],
   "source": [
    "prompt = 'If you tell us who you are, we can personalize the messages you see.'\n",
    "prompt += '\\nWhat is your name?'\n",
    "name = input(prompt)\n",
    "print(\"\\nHello, \" + name + '!')"
   ]
  },
  {
   "cell_type": "code",
   "execution_count": 2,
   "metadata": {
    "tags": []
   },
   "outputs": [
    {
     "output_type": "stream",
     "name": "stdout",
     "text": "Sorry, you'll have to wait for a table.\n"
    }
   ],
   "source": [
    "people_num = int(input(\"Enter the number of people in your dinner group: \"))\n",
    "if people_num > 8:\n",
    "    print(\"Sorry, you'll have to wait for a table.\")\n",
    "else:\n",
    "    print(\"Your table is ready.\")"
   ]
  },
  {
   "cell_type": "code",
   "execution_count": 3,
   "metadata": {
    "tags": []
   },
   "outputs": [
    {
     "output_type": "stream",
     "name": "stdout",
     "text": "The number 200 is a multiple of ten.\n"
    }
   ],
   "source": [
    "num = int(input(\"Enter a number. I will tell you if it's a multiple of 10 or not: \"))\n",
    "if num % 10 == 0:\n",
    "    print(f\"The number {num} is a multiple of ten.\")\n",
    "else:\n",
    "    print(f\"The number {num} is not multiple of ten.\")"
   ]
  },
  {
   "cell_type": "code",
   "execution_count": 4,
   "metadata": {
    "tags": []
   },
   "outputs": [
    {
     "output_type": "stream",
     "name": "stdout",
     "text": "The Number 20 is even.\n"
    }
   ],
   "source": [
    "number = int(input(\"Enter a number and I will tell you if it's even or odd. \"))\n",
    "\n",
    "if number % 2 == 0:\n",
    "    print(f\"The Number {number} is even.\")\n",
    "else:\n",
    "    print(f\"The number {number} is an odd number.\")"
   ]
  },
  {
   "cell_type": "code",
   "execution_count": 5,
   "metadata": {
    "tags": []
   },
   "outputs": [
    {
     "output_type": "stream",
     "name": "stdout",
     "text": "I'd love to go to Sylhet!\nI'd love to go to Baghdad!\n"
    }
   ],
   "source": [
    "prompt = '\\nPlease enter the name of a city you have visited.'\n",
    "prompt += '\\n(Enter \"quit\" when you are finished.)'\n",
    "while True:\n",
    "    city = input(prompt)\n",
    "    if city == 'quit':\n",
    "        break\n",
    "    else:\n",
    "        print(\"I'd love to go to \" + city.title() + \"!\")"
   ]
  },
  {
   "cell_type": "code",
   "execution_count": 6,
   "metadata": {
    "tags": []
   },
   "outputs": [
    {
     "output_type": "stream",
     "name": "stdout",
     "text": "Hi again\nOkay bye\nquit\n"
    }
   ],
   "source": [
    "prompt = input(\"Tell me something, and I will repeat it to you: \")\n",
    "prompt += \"\\nEnter 'quit' to end the program.\\n\"\n",
    "message = \"\"\n",
    "while message != 'quit':\n",
    "    message = input(prompt)\n",
    "    print(message)"
   ]
  },
  {
   "cell_type": "code",
   "execution_count": 7,
   "metadata": {
    "tags": []
   },
   "outputs": [
    {
     "output_type": "stream",
     "name": "stdout",
     "text": "hello\n"
    }
   ],
   "source": [
    "prompt = input(\"Tell me something, and I will repeat it to you: \")\n",
    "prompt += \"\\nEnter 'quit' to end the program.\\n\"\n",
    "message = \"\"\n",
    "while message != 'quit':\n",
    "    message = input(prompt)\n",
    "    if message != \"quit\":\n",
    "        print(message)"
   ]
  },
  {
   "cell_type": "code",
   "execution_count": 9,
   "metadata": {
    "tags": []
   },
   "outputs": [
    {
     "output_type": "stream",
     "name": "stdout",
     "text": "\nYou'll be able to ride when you're a little older.\n"
    }
   ],
   "source": [
    "height = input(\"How tall are you, in inches? \")\n",
    "height = int(height)\n",
    "if height >= 36:\n",
    "    print(\"\\nYou're tall enough to ride!\")\n",
    "else:\n",
    "    print(\"\\nYou'll be able to ride when you're a little older.\")"
   ]
  },
  {
   "cell_type": "code",
   "execution_count": 10,
   "metadata": {
    "tags": []
   },
   "outputs": [
    {
     "output_type": "stream",
     "name": "stdout",
     "text": "I am nervous.\nI am lazy.\nWhat to do with me?\n"
    }
   ],
   "source": [
    "# flag variable:\n",
    "prompt = input(\"Tell me something, and I will repeat it to you: \")\n",
    "prompt += \"\\nEnter 'quit' to end the program.\\n\"\n",
    "active = True  # active is h=the flag variable here.\n",
    "while active:\n",
    "    message = input(prompt)\n",
    "    if message == 'quit':\n",
    "        active = False\n",
    "    else:\n",
    "        print(message)"
   ]
  },
  {
   "cell_type": "code",
   "execution_count": 11,
   "metadata": {
    "tags": []
   },
   "outputs": [
    {
     "output_type": "stream",
     "name": "stdout",
     "text": "1\n3\n5\n7\n9\n"
    }
   ],
   "source": [
    "# counting the odd numbers.\n",
    "current_number = 0\n",
    "while current_number < 10:\n",
    "    current_number += 1\n",
    "    if current_number % 2 == 0:\n",
    "        continue\n",
    "    print(current_number)"
   ]
  },
  {
   "cell_type": "code",
   "execution_count": null,
   "metadata": {},
   "outputs": [],
   "source": [
    "# counting the even numbers.\n",
    "current_number = 1\n",
    "while current_number <= 10:\n",
    "    current_number += 1\n",
    "    "
   ]
  },
  {
   "cell_type": "code",
   "execution_count": 12,
   "metadata": {
    "tags": []
   },
   "outputs": [
    {
     "output_type": "stream",
     "name": "stdout",
     "text": "1\n2\n3\n4\n5\n"
    }
   ],
   "source": [
    "# this counting loop should count from 1 to 5:\n",
    "x = 1\n",
    "while x <= 5:\n",
    "    print(x)\n",
    "    x += 1"
   ]
  },
  {
   "cell_type": "markdown",
   "metadata": {},
   "source": [
    "<hr><u>confirmed users:</u>\n",
    "Start with users that need to be verified, and an empty list to hold confirmed users."
   ]
  },
  {
   "cell_type": "code",
   "execution_count": 3,
   "metadata": {
    "tags": []
   },
   "outputs": [
    {
     "output_type": "stream",
     "name": "stdout",
     "text": "Verifying user: Candace\nVerifying user: Brian\nVerifying user: Alice\n\nThe following users have been confirmed:\ncandace\nbrian\nalice\n"
    }
   ],
   "source": [
    "unconfirmed_users = ['alice', 'brian', 'candace']\n",
    "confirmed_users = []\n",
    "'''Verify each user until there are no more unconfirmed users. Move each verified user into the list of confirmed users.'''\n",
    "while unconfirmed_users:\n",
    "    current_user = unconfirmed_users.pop()\n",
    "    print(\"Verifying user: \" + current_user.title())\n",
    "    confirmed_users.append(current_user)\n",
    "\n",
    "# diplaying all confirmed users:\n",
    "print(\"\\nThe following users have been confirmed:\")\n",
    "for confirmed_user in confirmed_users:\n",
    "    print(confirmed_user)"
   ]
  },
  {
   "cell_type": "markdown",
   "metadata": {},
   "source": [
    "<hr> **Removing all instances of specific values from a list:**  \n",
    "We use remove() to remove an item from a list. But if the item appears several times, we will have to use while loop."
   ]
  },
  {
   "cell_type": "code",
   "execution_count": 7,
   "metadata": {
    "tags": []
   },
   "outputs": [
    {
     "output_type": "stream",
     "name": "stdout",
     "text": "['cat', 'dog', 'cat', 'rabbit', 'cat', 'goldfish']\n['dog', 'rabbit', 'goldfish']\n"
    }
   ],
   "source": [
    "pets = ['cat', 'dog', 'cat', 'rabbit', 'cat', 'goldfish']\n",
    "print(pets)\n",
    "while 'cat' in pets:\n",
    "    pets.remove('cat')\n",
    "    \n",
    "print(pets)"
   ]
  },
  {
   "cell_type": "markdown",
   "metadata": {},
   "source": [
    "<hr>**Filling a Dictionary with User Input:**\n",
    "Let’s make a polling program in which each pass through the loop prompts for the participant’s name and response. We’ll store the data we gather in a dictionary, because we want to connect each response with a particular user:\n"
   ]
  },
  {
   "cell_type": "code",
   "execution_count": 1,
   "metadata": {
    "tags": []
   },
   "outputs": [
    {
     "output_type": "stream",
     "name": "stdout",
     "text": "\n---Poll Results---\nAyesha would you like to climb Averest.\nFatima would you like to climb Vesuvius.\n"
    }
   ],
   "source": [
    "responses = {}\n",
    "# set a flag to indicate that polling is active.\n",
    "polling_active = True\n",
    "while polling_active:\n",
    "    name = input('\\nWhat is your name?')\n",
    "    response = input(\"Which mountain would you like to climb someday? \")\n",
    "    responses[name] = response  # storing the response in the dictionary.\n",
    "    repeat = input(\"Would you like to let another person respond? (yes/ no) \")\n",
    "    if repeat == 'no':\n",
    "        polling_active = False\n",
    "print('\\n---Poll Results---')\n",
    "for name, response in responses.items():\n",
    "    print(name + ' would you like to climb ' + response + '.')"
   ]
  }
 ]
}