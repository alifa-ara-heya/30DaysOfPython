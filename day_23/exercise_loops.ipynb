{
 "metadata": {
  "language_info": {
   "codemirror_mode": {
    "name": "ipython",
    "version": 3
   },
   "file_extension": ".py",
   "mimetype": "text/x-python",
   "name": "python",
   "nbconvert_exporter": "python",
   "pygments_lexer": "ipython3",
   "version": "3.8.5-final"
  },
  "orig_nbformat": 2,
  "kernelspec": {
   "name": "python_defaultSpec_1598250011037",
   "display_name": "Python 3.8.5 32-bit"
  }
 },
 "nbformat": 4,
 "nbformat_minor": 2,
 "cells": [
  {
   "cell_type": "markdown",
   "metadata": {},
   "source": [
    "From: 30 Days of python by Asabeneh (Day 10) <br>\n",
    "Date: 24. Aug. 2020"
   ]
  },
  {
   "cell_type": "markdown",
   "metadata": {},
   "source": [
    "<hr>**1.** Iterate 0 to 10 using for loop, do the same using while loop."
   ]
  },
  {
   "cell_type": "code",
   "execution_count": null,
   "metadata": {
    "tags": []
   },
   "outputs": [],
   "source": [
    "# for loop:\n",
    "for num in range(0, 11):\n",
    "    print(num)"
   ]
  },
  {
   "cell_type": "code",
   "execution_count": 4,
   "metadata": {
    "tags": []
   },
   "outputs": [
    {
     "output_type": "stream",
     "name": "stdout",
     "text": "0\n1\n2\n3\n4\n5\n6\n7\n8\n9\n10\n"
    }
   ],
   "source": [
    "# using while loop:\n",
    "count = 0\n",
    "while count <= 10:\n",
    "    print(count)\n",
    "    count = count + 1"
   ]
  },
  {
   "cell_type": "markdown",
   "metadata": {},
   "source": [
    "<hr> **3.** Iterate 10 to 0 using for loop, do the same using while loop."
   ]
  },
  {
   "cell_type": "code",
   "execution_count": 21,
   "metadata": {
    "tags": []
   },
   "outputs": [
    {
     "output_type": "stream",
     "name": "stdout",
     "text": "10\n9\n8\n7\n6\n5\n4\n3\n2\n1\n0\n"
    }
   ],
   "source": [
    "# using for loop:\n",
    "for num in range(10, -1, -1):\n",
    "    print(num)"
   ]
  },
  {
   "cell_type": "code",
   "execution_count": 20,
   "metadata": {
    "tags": []
   },
   "outputs": [
    {
     "output_type": "stream",
     "name": "stdout",
     "text": "10\n9\n8\n7\n6\n5\n4\n3\n2\n1\n0\n"
    }
   ],
   "source": [
    "# while:\n",
    "count = 10\n",
    "while count >= 0:\n",
    "    print(count)\n",
    "    count = count - 1"
   ]
  },
  {
   "cell_type": "markdown",
   "metadata": {},
   "source": [
    "<hr> **3.** Write a loop that makes seven calls to print(), so we get on the output the following triangle:\n",
    "\n",
    "  \\# <br>\n",
    "  \\## <br>\n",
    "  \\### <br>\n",
    "  \\#### <br>\n",
    "  \\##### <br>\n",
    "  \\###### <br>\n",
    "  \\####### <br>"
   ]
  },
  {
   "cell_type": "code",
   "execution_count": 27,
   "metadata": {
    "tags": []
   },
   "outputs": [
    {
     "output_type": "stream",
     "name": "stdout",
     "text": "#\n##\n###\n####\n#####\n######\n#######\n"
    }
   ],
   "source": [
    "total = 0\n",
    "rows = range(1, 8)\n",
    "for i in rows:\n",
    "    total = '#' * i\n",
    "    print(total, end = '\\n')"
   ]
  },
  {
   "cell_type": "code",
   "execution_count": 47,
   "metadata": {
    "tags": []
   },
   "outputs": [
    {
     "output_type": "stream",
     "name": "stdout",
     "text": "Right Triangle Pattern Of Numbers-\n1  \n2 2  \n3 3 3  \n4 4 4 4  \n5 5 5 5 5  \n6 6 6 6 6 6  \n"
    }
   ],
   "source": [
    "# Python program to print right triangle number pattern:\n",
    "rows = int(input(\"Please, enter the number of rows: \"))\n",
    "print('Right Triangle Pattern Of Numbers-')\n",
    "\n",
    "for i in range(1, rows + 1):\n",
    "    for j in range(1, i + 1):\n",
    "        print(i, end = \" \")\n",
    "    print(' ')\n"
   ]
  },
  {
   "cell_type": "code",
   "execution_count": null,
   "metadata": {},
   "outputs": [],
   "source": []
  }
 ]
}