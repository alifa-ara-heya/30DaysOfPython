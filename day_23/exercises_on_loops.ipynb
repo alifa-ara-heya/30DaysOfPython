{
 "metadata": {
  "language_info": {
   "codemirror_mode": {
    "name": "ipython",
    "version": 3
   },
   "file_extension": ".py",
   "mimetype": "text/x-python",
   "name": "python",
   "nbconvert_exporter": "python",
   "pygments_lexer": "ipython3",
   "version": "3.8.5-final"
  },
  "orig_nbformat": 2,
  "kernelspec": {
   "name": "python_defaultSpec_1598106739805",
   "display_name": "Python 3.8.5 32-bit"
  }
 },
 "nbformat": 4,
 "nbformat_minor": 2,
 "cells": [
  {
   "cell_type": "markdown",
   "metadata": {},
   "source": [
    "day_23 <br>\n",
    "Date: August/ 22/ 2020 <br>\n",
    "Book: Python Crash Course <br>\n",
    "chapter: 7 (user input and while loop)"
   ]
  },
  {
   "cell_type": "markdown",
   "metadata": {},
   "source": [
    "<hr>**7-4. Pizza Toppings:** Write a loop that prompts the user to enter a series of pizza toppings until they enter a 'quit' value. As they enter each topping, print a message saying you’ll add that topping to their pizza."
   ]
  },
  {
   "cell_type": "code",
   "execution_count": 2,
   "metadata": {
    "tags": []
   },
   "outputs": [
    {
     "output_type": "stream",
     "name": "stdout",
     "text": "I'll add cheese to your pizza.\nI'll add chicken to your pizza.\n"
    }
   ],
   "source": [
    "prompt = \"\\nWhat topping would you like on your pizza?\"\n",
    "prompt += \"\\nEnter quit when you are finished: \"\n",
    "\n",
    "while True:\n",
    "    topping = input(prompt)\n",
    "    if topping != 'quit':\n",
    "        print(f\"I'll add {topping} to your pizza.\")\n",
    "    else:\n",
    "        break"
   ]
  },
  {
   "cell_type": "markdown",
   "metadata": {},
   "source": [
    "<hr> **7-5. Movie Tickets:** A movie theater charges different ticket prices depending on a person’s age. If a person is under the age of 3, the ticket is free; if they are between 3 and 12, the ticket is $10; and if they are over age 12, the ticket is $15. Write a loop in which you ask users their age, and then tell them the cost of their movie ticket."
   ]
  },
  {
   "cell_type": "code",
   "execution_count": 5,
   "metadata": {
    "tags": []
   },
   "outputs": [
    {
     "output_type": "stream",
     "name": "stdout",
     "text": "Your ticket is free.\n The ticket is 10$.\n The ticket is 15$.\n The ticket is 15$.\n"
    }
   ],
   "source": [
    "prompt = \"\\nHow old are you? Enter quit when you are done: \"\n",
    "while True:\n",
    "    age = input(prompt)\n",
    "    if age == \"quit\":\n",
    "        break\n",
    "    age = int(age)\n",
    "\n",
    "    if age < 3:\n",
    "        print(\" Your ticket is free.\")\n",
    "    elif age < 12:\n",
    "        print(\" The ticket is 10$.\")\n",
    "    else:\n",
    "        print(\" The ticket is 15$.\")"
   ]
  },
  {
   "cell_type": "markdown",
   "metadata": {},
   "source": [
    "<hr>**7-6. Three Exits:** Write different versions of either Exercise 7-4 or Exercise 7-5 that do each of the following at least once:\n",
    "\n",
    "• Use a conditional test in the while statement to stop the loop.\n",
    "\n",
    "• Use an active variable to control how long the loop runs.\n",
    "\n",
    "• Use a break statement to exit the loop when the user enters a 'quit' value."
   ]
  },
  {
   "cell_type": "code",
   "execution_count": null,
   "metadata": {},
   "outputs": [],
   "source": []
  }
 ]
}