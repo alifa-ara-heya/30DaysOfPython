{
 "metadata": {
  "language_info": {
   "codemirror_mode": {
    "name": "ipython",
    "version": 3
   },
   "file_extension": ".py",
   "mimetype": "text/x-python",
   "name": "python",
   "nbconvert_exporter": "python",
   "pygments_lexer": "ipython3",
   "version": "3.8.5-final"
  },
  "orig_nbformat": 2,
  "kernelspec": {
   "name": "python_defaultSpec_1598538372793",
   "display_name": "Python 3.8.5 32-bit"
  }
 },
 "nbformat": 4,
 "nbformat_minor": 2,
 "cells": [
  {
   "cell_type": "markdown",
   "metadata": {},
   "source": [
    "day_23 <br>\n",
    "Date: August/ 22/ 2020 <br>\n",
    "Book: Python Crash Course <br>\n",
    "chapter: 7 (user input and while loop)"
   ]
  },
  {
   "cell_type": "markdown",
   "metadata": {},
   "source": [
    "<hr>**7-4. Pizza Toppings:** Write a loop that prompts the user to enter a series of pizza toppings until they enter a 'quit' value. As they enter each topping, print a message saying you’ll add that topping to their pizza."
   ]
  },
  {
   "cell_type": "code",
   "execution_count": 2,
   "metadata": {
    "tags": []
   },
   "outputs": [
    {
     "output_type": "stream",
     "name": "stdout",
     "text": "I'll add cheese to your pizza.\nI'll add chicken to your pizza.\n"
    }
   ],
   "source": [
    "prompt = \"\\nWhat topping would you like on your pizza?\"\n",
    "prompt += \"\\nEnter quit when you are finished: \"\n",
    "\n",
    "while True:\n",
    "    topping = input(prompt)\n",
    "    if topping != 'quit':\n",
    "        print(f\"I'll add {topping} to your pizza.\")\n",
    "    else:\n",
    "        break"
   ]
  },
  {
   "cell_type": "markdown",
   "metadata": {},
   "source": [
    "<hr> **7-5. Movie Tickets:** A movie theater charges different ticket prices depending on a person’s age. If a person is under the age of 3, the ticket is free; if they are between 3 and 12, the ticket is $10; and if they are over age 12, the ticket is $15. Write a loop in which you ask users their age, and then tell them the cost of their movie ticket."
   ]
  },
  {
   "cell_type": "code",
   "execution_count": 5,
   "metadata": {
    "tags": []
   },
   "outputs": [
    {
     "output_type": "stream",
     "name": "stdout",
     "text": "Your ticket is free.\n The ticket is 10$.\n The ticket is 15$.\n The ticket is 15$.\n"
    }
   ],
   "source": [
    "prompt = \"\\nHow old are you? Enter quit when you are done: \"\n",
    "while True:\n",
    "    age = input(prompt)\n",
    "    if age == \"quit\":\n",
    "        break\n",
    "    age = int(age)\n",
    "\n",
    "    if age < 3:\n",
    "        print(\" Your ticket is free.\")\n",
    "    elif age < 12:\n",
    "        print(\" The ticket is 10$.\")\n",
    "    else:\n",
    "        print(\" The ticket is 15$.\")"
   ]
  },
  {
   "cell_type": "markdown",
   "metadata": {},
   "source": [
    "<hr>**7-6. Three Exits:** Write different versions of either Exercise 7-4 or Exercise 7-5 that do each of the following at least once:\n",
    "\n",
    "• Use a conditional test in the while statement to stop the loop.\n",
    "\n",
    "• Use an active variable to control how long the loop runs.\n",
    "\n",
    "• Use a break statement to exit the loop when the user enters a 'quit' value."
   ]
  },
  {
   "cell_type": "markdown",
   "metadata": {},
   "source": [
    "<hr> **7-8. Deli:** Make a list called sandwich_orders and fill it with the names of various sandwiches. Then make an empty list called finished_sandwiches . Loop through the list of sandwich orders and print a message for each order, such as I made your tuna sandwich. As each sandwich is made, move it to the list of finished sandwiches. After all the sandwiches have been made, print a message listing each sandwich that was made."
   ]
  },
  {
   "cell_type": "code",
   "execution_count": 9,
   "metadata": {
    "tags": []
   },
   "outputs": [
    {
     "output_type": "stream",
     "name": "stdout",
     "text": "I made your egg sandwich.\nI made your beef sandwich.\nI made your chicken sandwich.\nI made your tuna sandwich.\n\nThe following sandwiched have veen made:\n   Egg sandwich\n   Beef sandwich\n   Chicken sandwich\n   Tuna sandwich\n"
    }
   ],
   "source": [
    "sandwich_orders =['tuna', 'chicken', 'beef', 'egg']\n",
    "finished_sandwiches = []\n",
    "while sandwich_orders:\n",
    "    current_sandwich = sandwich_orders.pop()\n",
    "    print(f\"I made your {current_sandwich} sandwich.\")\n",
    "    finished_sandwiches.append(current_sandwich)\n",
    "\n",
    "print(f\"\\nThe following sandwiched have veen made:\")\n",
    "for sandwich in finished_sandwiches:\n",
    "    print('  ', sandwich.title(), 'sandwich')"
   ]
  },
  {
   "cell_type": "markdown",
   "metadata": {},
   "source": [
    "<hr>**7-9. No Pastrami:** Using the list sandwich_orders from Exercise 7-8 , make sure the sandwich 'pastrami' appears in the list at least three times. Add code near the beginning of your program to print a message saying the deli has run out of pastrami, and then use a while loop to remove all occurrences of 'pastrami' from sandwich_orders. Make sure no pastrami sandwiches end up in finished_sandwiches."
   ]
  },
  {
   "cell_type": "code",
   "execution_count": 13,
   "metadata": {
    "tags": []
   },
   "outputs": [
    {
     "output_type": "stream",
     "name": "stdout",
     "text": "The restaurant has run out of pastrami.\n['tuna', 'chicken', 'beef', 'egg']\n"
    }
   ],
   "source": [
    "sandwich_orders = ['pastrami', 'tuna', 'chicken', 'pastrami', 'beef', 'egg', 'pastrami']\n",
    "print(\"The restaurant has run out of pastrami.\")\n",
    "while 'pastrami' in sandwich_orders:\n",
    "    if 'pastrami' in sandwich_orders:\n",
    "        sandwich_orders.remove('pastrami')\n",
    "\n",
    "print(sandwich_orders)   "
   ]
  },
  {
   "cell_type": "markdown",
   "metadata": {},
   "source": [
    "<hr>**7-10. Dream Vacation:** Write a program that polls users about their dream vacation. Write a prompt similar to If you could visit one place in the world, where would you go? Include a block of code that prints the results of the poll."
   ]
  },
  {
   "cell_type": "code",
   "execution_count": 16,
   "metadata": {
    "tags": []
   },
   "outputs": [
    {
     "output_type": "stream",
     "name": "stdout",
     "text": "Poll Results: \nAbdullah's dream vacation place is in Makkah.\nArsh's dream vacation place is in Madina.\n"
    }
   ],
   "source": [
    "poll = {}\n",
    "polling_active = True\n",
    "while polling_active:\n",
    "    name = input('\\nWhat is your name? ')\n",
    "    place = input(\"Which place in the world would you like to visit? \")\n",
    "    poll[name] = place\n",
    "    repeat = input(\"Would you like to let another person respond? (yes/ no) \")\n",
    "    if repeat == 'no':\n",
    "        polling_active = False\n",
    "print('Poll Results: ')\n",
    "for name, place in poll.items():\n",
    "    print(f\"{name}'s dream vacation place is in {place}.\")"
   ]
  }
 ]
}