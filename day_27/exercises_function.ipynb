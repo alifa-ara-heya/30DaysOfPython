{
 "metadata": {
  "language_info": {
   "codemirror_mode": {
    "name": "ipython",
    "version": 3
   },
   "file_extension": ".py",
   "mimetype": "text/x-python",
   "name": "python",
   "nbconvert_exporter": "python",
   "pygments_lexer": "ipython3",
   "version": "3.8.5-final"
  },
  "orig_nbformat": 2,
  "kernelspec": {
   "name": "python_defaultSpec_1598623124599",
   "display_name": "Python 3.8.5 32-bit"
  }
 },
 "nbformat": 4,
 "nbformat_minor": 2,
 "cells": [
  {
   "cell_type": "markdown",
   "metadata": {},
   "source": [
    "Date : 28 - Aug - 2020 <br>\n",
    "From: 30 Days Of Python (day 11) <br>\n",
    "**Exercises:**\n",
    "<hr>"
   ]
  },
  {
   "cell_type": "markdown",
   "metadata": {},
   "source": [
    "** 1. ** Declare a function add_two_numbers. It takes two parameters and it returns a sum."
   ]
  },
  {
   "cell_type": "code",
   "execution_count": 2,
   "metadata": {
    "tags": []
   },
   "outputs": [
    {
     "output_type": "stream",
     "name": "stdout",
     "text": "The sum of 4 and 5 is 9.\n"
    }
   ],
   "source": [
    "def add_two_numbers(num1, num2):\n",
    "    total = num1 + num2\n",
    "    return total\n",
    "\n",
    "print(f\"The sum of 4 and 5 is {add_two_numbers(4, 5)}.\")"
   ]
  },
  {
   "cell_type": "markdown",
   "metadata": {},
   "source": [
    "<hr> **2.**Area of a circle is calculated as follows: area = π x r x r. Write a function that calculates area_of_circle."
   ]
  },
  {
   "cell_type": "code",
   "execution_count": 24,
   "metadata": {
    "tags": []
   },
   "outputs": [
    {
     "output_type": "stream",
     "name": "stdout",
     "text": "28.274 square unit.\n"
    }
   ],
   "source": [
    "def area_of_circle(radius, pi = 3.1416):\n",
    "    area = f\"{pi * radius ** 2:.3f} square unit.\"\n",
    "    return area\n",
    "\n",
    "print(area_of_circle(3))"
   ]
  },
  {
   "cell_type": "markdown",
   "metadata": {},
   "source": [
    "<hr> **3.** Write a function called add_all_nums which takes arbitrary number of arguments and sums all the arguments. Check if all the list items are number types. If not do give a reasonable feedback."
   ]
  },
  {
   "cell_type": "code",
   "execution_count": 25,
   "metadata": {
    "tags": []
   },
   "outputs": [
    {
     "output_type": "stream",
     "name": "stdout",
     "text": "12\n"
    }
   ],
   "source": [
    "def add_all_nums(*nums):\n",
    "    total = 0\n",
    "    for num in nums:\n",
    "        total = total + num\n",
    "    if type(nums) == str:\n",
    "        print(\"Please, enter a number.\")\n",
    "    return total\n",
    "\n",
    "print(add_all_nums(4, 6, 2))"
   ]
  },
  {
   "cell_type": "code",
   "execution_count": 26,
   "metadata": {},
   "outputs": [
    {
     "output_type": "execute_result",
     "data": {
      "text/plain": "False"
     },
     "metadata": {},
     "execution_count": 26
    }
   ],
   "source": [
    "type(3) == type('three')"
   ]
  },
  {
   "cell_type": "code",
   "execution_count": 27,
   "metadata": {},
   "outputs": [
    {
     "output_type": "execute_result",
     "data": {
      "text/plain": "True"
     },
     "metadata": {},
     "execution_count": 27
    }
   ],
   "source": [
    "type(3) == int"
   ]
  },
  {
   "cell_type": "markdown",
   "metadata": {},
   "source": [
    "<hr> **4.** Temperature in °C can be converted to °F using this formula: °F = (°C x 9/5) + 32. Write a function which converts °C to °F, convert_celcius_to-fahrenheit."
   ]
  },
  {
   "cell_type": "code",
   "execution_count": 29,
   "metadata": {
    "tags": []
   },
   "outputs": [
    {
     "output_type": "stream",
     "name": "stdout",
     "text": "39.2°F\n"
    }
   ],
   "source": [
    "def convert_celcius_to_fahrenheit(C):\n",
    "    fahrenheit = f\"{(C * 9/5) + 32}°F\"\n",
    "    return fahrenheit\n",
    "\n",
    "print(convert_celcius_to_fahrenheit(4))"
   ]
  },
  {
   "cell_type": "markdown",
   "metadata": {},
   "source": [
    "<hr> **5.** Write a function called check-season, it takes a month parameter and returns the season: Autumn, Winter, Spring or Summer."
   ]
  },
  {
   "cell_type": "code",
   "execution_count": 57,
   "metadata": {
    "tags": []
   },
   "outputs": [
    {
     "output_type": "stream",
     "name": "stdout",
     "text": "This is Winter!\nThis is Winter!\nThis is Rainy Season!\nThis is Autumn!\nThis is Spring!\n"
    }
   ],
   "source": [
    "def check_season(month):\n",
    "    if month == 'December' or month == 'January' :\n",
    "        season = 'This is Winter!'\n",
    "    elif month == 'February' or month == 'March':\n",
    "        season = 'This is Spring!'   \n",
    "    elif month == 'April' or month == 'May':\n",
    "        season = 'This is Summer!'\n",
    "    elif month == 'June' or month == 'July':\n",
    "        season ='This is Rainy Season!'  \n",
    "    elif month == 'August' or month == 'September' or month == 'October' or month == 'November':\n",
    "        season ='This is Autumn!'\n",
    "    return season\n",
    "\n",
    "print(check_season('January'))\n",
    "print(check_season('December'))\n",
    "print(check_season('July'))\n",
    "print(check_season('November'))\n",
    "print(check_season('March'))"
   ]
  },
  {
   "cell_type": "markdown",
   "metadata": {},
   "source": [
    "<hr> **6.** Write a function called calculate_slope which return the slope of a linear equation."
   ]
  },
  {
   "cell_type": "code",
   "execution_count": 63,
   "metadata": {
    "tags": []
   },
   "outputs": [
    {
     "output_type": "stream",
     "name": "stdout",
     "text": "6.0\n"
    }
   ],
   "source": [
    "def calculate_slope(x1, y1, x2, y2):\n",
    "    slope = (y2 - y1) / (x2 - x1)\n",
    "    return slope\n",
    "\n",
    "print(calculate_slope(7, 8, 6, 2))"
   ]
  },
  {
   "cell_type": "markdown",
   "metadata": {},
   "source": [
    "<hr> **7.** Quadratic equation is calculated as follows: <i>ax² + bx + c = 0</i>. Write a function which calculates solution set of a quadratic equation, solve_quadratic_eqn."
   ]
  },
  {
   "cell_type": "code",
   "execution_count": 72,
   "metadata": {
    "tags": []
   },
   "outputs": [
    {
     "output_type": "stream",
     "name": "stdout",
     "text": "-93.0\n"
    }
   ],
   "source": [
    "def solve_quadratic_eqn(a, b, c):\n",
    "    if a != 0:\n",
    "        x = (-b + (b ** 2 - 4 * a * c) ** 1 / 2) / 2 * a\n",
    "        return x\n",
    "\n",
    "print(solve_quadratic_eqn(4, 3, 6))"
   ]
  },
  {
   "cell_type": "markdown",
   "metadata": {},
   "source": [
    "<hr> **8.** Declare a function named print_list. It takes a list as a parameter and it prints out each element of the list."
   ]
  },
  {
   "cell_type": "code",
   "execution_count": 77,
   "metadata": {
    "tags": []
   },
   "outputs": [
    {
     "output_type": "stream",
     "name": "stdout",
     "text": "Ayesha\nFatima\nFahima\nRowshan\n"
    }
   ],
   "source": [
    "def print_list(lst):\n",
    "    for i in lst:\n",
    "        print(i)\n",
    "\n",
    "print_list(['Ayesha', 'Fatima', 'Fahima', 'Rowshan'])\n"
   ]
  },
  {
   "cell_type": "markdown",
   "metadata": {},
   "source": [
    "<hr> **9.** Declare a function named reverse_list. It takes an array as a parameter and it returns the reverse of the array (use loops)."
   ]
  },
  {
   "cell_type": "code",
   "execution_count": 82,
   "metadata": {
    "tags": []
   },
   "outputs": [
    {
     "output_type": "stream",
     "name": "stdout",
     "text": "['Rowshan', 'Fatima', 'Fahima', 'Ayesha']\n"
    }
   ],
   "source": [
    "def reverse_list(lst):\n",
    "    for i in lst:\n",
    "        lst.sort(reverse=True)\n",
    "    print(lst)\n",
    "\n",
    "reverse_list(['Ayesha', 'Fatima', 'Fahima', 'Rowshan'])"
   ]
  },
  {
   "cell_type": "code",
   "execution_count": 87,
   "metadata": {
    "tags": []
   },
   "outputs": [
    {
     "output_type": "stream",
     "name": "stdout",
     "text": "['Rima', 'Khadeeja', 'Fahima', 'Ayesha']\n"
    }
   ],
   "source": [
    "# or,\n",
    "def reverse_list(lst):\n",
    "    for i in lst:\n",
    "        lst.sort(reverse=True)\n",
    "    print(lst)\n",
    "\n",
    "reverse_list(['Khadeeja','Ayesha','Fahima', 'Rima'])"
   ]
  },
  {
   "cell_type": "code",
   "execution_count": null,
   "metadata": {},
   "outputs": [],
   "source": []
  }
 ]
}