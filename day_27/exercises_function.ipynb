{
 "metadata": {
  "language_info": {
   "codemirror_mode": {
    "name": "ipython",
    "version": 3
   },
   "file_extension": ".py",
   "mimetype": "text/x-python",
   "name": "python",
   "nbconvert_exporter": "python",
   "pygments_lexer": "ipython3",
   "version": "3.8.5-final"
  },
  "orig_nbformat": 2,
  "kernelspec": {
   "name": "python_defaultSpec_1598673415577",
   "display_name": "Python 3.8.5 32-bit"
  }
 },
 "nbformat": 4,
 "nbformat_minor": 2,
 "cells": [
  {
   "cell_type": "markdown",
   "metadata": {},
   "source": [
    "Date : 28 - Aug - 2020 <br>\n",
    "From: 30 Days Of Python (day 11) <br>\n",
    "**Exercises:**\n",
    "<hr>"
   ]
  },
  {
   "cell_type": "markdown",
   "metadata": {},
   "source": [
    "** 1. ** Declare a function add_two_numbers. It takes two parameters and it returns a sum."
   ]
  },
  {
   "cell_type": "code",
   "execution_count": 2,
   "metadata": {
    "tags": []
   },
   "outputs": [
    {
     "output_type": "stream",
     "name": "stdout",
     "text": "The sum of 4 and 5 is 9.\n"
    }
   ],
   "source": [
    "def add_two_numbers(num1, num2):\n",
    "    total = num1 + num2\n",
    "    return total\n",
    "\n",
    "print(f\"The sum of 4 and 5 is {add_two_numbers(4, 5)}.\")"
   ]
  },
  {
   "cell_type": "markdown",
   "metadata": {},
   "source": [
    "<hr> **2.**Area of a circle is calculated as follows: area = π x r x r. Write a function that calculates area_of_circle."
   ]
  },
  {
   "cell_type": "code",
   "execution_count": 24,
   "metadata": {
    "tags": []
   },
   "outputs": [
    {
     "output_type": "stream",
     "name": "stdout",
     "text": "28.274 square unit.\n"
    }
   ],
   "source": [
    "def area_of_circle(radius, pi = 3.1416):\n",
    "    area = f\"{pi * radius ** 2:.3f} square unit.\"\n",
    "    return area\n",
    "\n",
    "print(area_of_circle(3))"
   ]
  },
  {
   "cell_type": "markdown",
   "metadata": {},
   "source": [
    "<hr> **3.** Write a function called add_all_nums which takes arbitrary number of arguments and sums all the arguments. Check if all the list items are number types. If not do give a reasonable feedback."
   ]
  },
  {
   "cell_type": "code",
   "execution_count": 25,
   "metadata": {
    "tags": []
   },
   "outputs": [
    {
     "output_type": "stream",
     "name": "stdout",
     "text": "12\n"
    }
   ],
   "source": [
    "def add_all_nums(*nums):\n",
    "    total = 0\n",
    "    for num in nums:\n",
    "        total = total + num\n",
    "    if type(nums) == str:\n",
    "        print(\"Please, enter a number.\")\n",
    "    return total\n",
    "\n",
    "print(add_all_nums(4, 6, 2))"
   ]
  },
  {
   "cell_type": "code",
   "execution_count": 26,
   "metadata": {},
   "outputs": [
    {
     "output_type": "execute_result",
     "data": {
      "text/plain": "False"
     },
     "metadata": {},
     "execution_count": 26
    }
   ],
   "source": [
    "type(3) == type('three')"
   ]
  },
  {
   "cell_type": "code",
   "execution_count": 27,
   "metadata": {},
   "outputs": [
    {
     "output_type": "execute_result",
     "data": {
      "text/plain": "True"
     },
     "metadata": {},
     "execution_count": 27
    }
   ],
   "source": [
    "type(3) == int"
   ]
  },
  {
   "cell_type": "markdown",
   "metadata": {},
   "source": [
    "<hr> **4.** Temperature in °C can be converted to °F using this formula: °F = (°C x 9/5) + 32. Write a function which converts °C to °F, convert_celcius_to-fahrenheit."
   ]
  },
  {
   "cell_type": "code",
   "execution_count": 29,
   "metadata": {
    "tags": []
   },
   "outputs": [
    {
     "output_type": "stream",
     "name": "stdout",
     "text": "39.2°F\n"
    }
   ],
   "source": [
    "def convert_celcius_to_fahrenheit(C):\n",
    "    fahrenheit = f\"{(C * 9/5) + 32}°F\"\n",
    "    return fahrenheit\n",
    "\n",
    "print(convert_celcius_to_fahrenheit(4))"
   ]
  },
  {
   "cell_type": "markdown",
   "metadata": {},
   "source": [
    "<hr> **5.** Write a function called check-season, it takes a month parameter and returns the season: Autumn, Winter, Spring or Summer."
   ]
  },
  {
   "cell_type": "code",
   "execution_count": 118,
   "metadata": {
    "tags": []
   },
   "outputs": [
    {
     "output_type": "stream",
     "name": "stdout",
     "text": "This is Winter! Do you love cold breeze?\nThis is Spring! Let's enjoy the beauty of maple trees!\nThis is Rainy Season! Let's enjoy rain. Yee!\nThis is Autumn! Nature is so beautiful now.\nThis is Spring! Let's enjoy the beauty of maple trees!\nThis is Summer! I love mango so much.\n"
    }
   ],
   "source": [
    "def check_season(month):\n",
    "    if month == 'December' or month == 'January' :\n",
    "        season = 'This is Winter! Do you love cold breeze?'\n",
    "    elif month == 'February' or month == 'March':\n",
    "        season = \"This is Spring! Let's enjoy the beauty of maple trees!\"   \n",
    "    elif month == 'April' or month == 'May':\n",
    "        season = 'This is Summer! I love mango so much.'\n",
    "    elif month == 'June' or month == 'July':\n",
    "        season =\"This is Rainy Season! Let's enjoy rain. Yee!\"\n",
    "    elif month == 'August' or month == 'September' or month == 'October' or month == 'November':\n",
    "        season ='This is Autumn! Nature is so beautiful now.'\n",
    "    return season\n",
    "\n",
    "print(check_season('January'))\n",
    "print(check_season('July'))\n",
    "print(check_season('November'))\n",
    "print(check_season('March'))\n",
    "print(check_season('April'))"
   ]
  },
  {
   "cell_type": "markdown",
   "metadata": {},
   "source": [
    "<hr> **6.** Write a function called calculate_slope which return the slope of a linear equation."
   ]
  },
  {
   "cell_type": "code",
   "execution_count": 63,
   "metadata": {
    "tags": []
   },
   "outputs": [
    {
     "output_type": "stream",
     "name": "stdout",
     "text": "6.0\n"
    }
   ],
   "source": [
    "def calculate_slope(x1, y1, x2, y2):\n",
    "    slope = (y2 - y1) / (x2 - x1)\n",
    "    return slope\n",
    "\n",
    "print(calculate_slope(7, 8, 6, 2))"
   ]
  },
  {
   "cell_type": "markdown",
   "metadata": {},
   "source": [
    "<hr> **7.** Quadratic equation is calculated as follows: <i>ax² + bx + c = 0</i>. Write a function which calculates solution set of a quadratic equation, solve_quadratic_eqn."
   ]
  },
  {
   "cell_type": "code",
   "execution_count": 72,
   "metadata": {
    "tags": []
   },
   "outputs": [
    {
     "output_type": "stream",
     "name": "stdout",
     "text": "-93.0\n"
    }
   ],
   "source": [
    "def solve_quadratic_eqn(a, b, c):\n",
    "    if a != 0:\n",
    "        x = (-b + (b ** 2 - 4 * a * c) ** 1 / 2) / 2 * a\n",
    "        return x\n",
    "\n",
    "print(solve_quadratic_eqn(4, 3, 6))"
   ]
  },
  {
   "cell_type": "markdown",
   "metadata": {},
   "source": [
    "<hr> **8.** Declare a function named print_list. It takes a list as a parameter and it prints out each element of the list."
   ]
  },
  {
   "cell_type": "code",
   "execution_count": 77,
   "metadata": {
    "tags": []
   },
   "outputs": [
    {
     "output_type": "stream",
     "name": "stdout",
     "text": "Ayesha\nFatima\nFahima\nRowshan\n"
    }
   ],
   "source": [
    "def print_list(lst):\n",
    "    for i in lst:\n",
    "        print(i)\n",
    "\n",
    "print_list(['Ayesha', 'Fatima', 'Fahima', 'Rowshan'])\n"
   ]
  },
  {
   "cell_type": "markdown",
   "metadata": {},
   "source": [
    "<hr> **9.** Declare a function named reverse_list. It takes an array as a parameter and it returns the reverse of the array (use loops)."
   ]
  },
  {
   "cell_type": "code",
   "execution_count": 96,
   "metadata": {
    "tags": []
   },
   "outputs": [
    {
     "output_type": "stream",
     "name": "stdout",
     "text": "['Rowshan', 'Mahima', 'Fatima', 'Ayesha']\n['lichi', 'guava', 'banana']\n[5, 4, 3, 2, 1]\n['C', 'B', 'A']\n"
    }
   ],
   "source": [
    "def reverse_list(lst):\n",
    "    for i in lst:\n",
    "        lst.sort(reverse=True)\n",
    "    print(lst)\n",
    "\n",
    "reverse_list(['Ayesha', 'Fatima', 'Mahima', 'Rowshan'])\n",
    "reverse_list(['banana', 'guava', 'lichi'])\n",
    "reverse_list([1, 2, 3, 4, 5])\n",
    "reverse_list([\"A\", \"B\", \"C\"])"
   ]
  },
  {
   "cell_type": "markdown",
   "metadata": {},
   "source": [
    "<hr>**10.** Declare a function named capitalize_list_items. It takes a list as a parameter and it returns a capitalized list of items."
   ]
  },
  {
   "cell_type": "code",
   "execution_count": 101,
   "metadata": {
    "tags": []
   },
   "outputs": [
    {
     "output_type": "stream",
     "name": "stdout",
     "text": "Hi\nI\nMiss\nU\n"
    }
   ],
   "source": [
    "def capitalize_list_items(lst):\n",
    "    for i in lst:\n",
    "        print(i.capitalize())\n",
    "\n",
    "capitalize_list_items(['hi', 'i', 'miss', 'u'])"
   ]
  },
  {
   "cell_type": "markdown",
   "metadata": {},
   "source": [
    "<hr>**11.** Declare a function named add_item. It takes a list and an item parameters. It returns a list with the item added at the end."
   ]
  },
  {
   "cell_type": "code",
   "execution_count": 115,
   "metadata": {
    "tags": []
   },
   "outputs": [
    {
     "output_type": "stream",
     "name": "stdout",
     "text": "['Potato', 'Tomato', 'Mango', 'Milk', 'Meat']\n[2, 3, 7, 9, 5]\n"
    }
   ],
   "source": [
    "def add_item(lst, param):\n",
    "        lst.append(param)\n",
    "        print(lst)\n",
    "\n",
    "food_staff = ['Potato', 'Tomato', 'Mango', 'Milk']\n",
    "numbers = [2, 3, 7, 9]\n",
    "\n",
    "add_item(food_staff, 'Meat')\n",
    "add_item(numbers, 5)"
   ]
  },
  {
   "cell_type": "markdown",
   "metadata": {},
   "source": [
    "<hr> **12.** Declare a function named remove_item. It takes a list and an item parameters. It returns a list with the item removed from it."
   ]
  },
  {
   "cell_type": "code",
   "execution_count": 11,
   "metadata": {
    "tags": []
   },
   "outputs": [
    {
     "output_type": "stream",
     "name": "stdout",
     "text": "['Potato', 'Tomato', 'Mango']\n"
    },
    {
     "output_type": "execute_result",
     "data": {
      "text/plain": "[2, 7, 9, 8]"
     },
     "metadata": {},
     "execution_count": 11
    }
   ],
   "source": [
    "def remove_item (lst, item):\n",
    "    lst.remove(item)\n",
    "    return lst\n",
    "\n",
    "food = ['Potato', 'Tomato', 'Mango', 'Milk']\n",
    "print(remove_item(food,'Milk'))\n",
    "remove_item(food,'Tomato')\n",
    "\n",
    "nums = [2, 3, 7, 9, 8]\n",
    "remove_item(nums, 3)"
   ]
  },
  {
   "cell_type": "markdown",
   "metadata": {},
   "source": [
    "<hr>**13.** Declare a function named sum_of_numbers. It takes a number parameter and it adds all the numbers in that range."
   ]
  },
  {
   "cell_type": "code",
   "execution_count": 20,
   "metadata": {
    "tags": []
   },
   "outputs": [
    {
     "output_type": "stream",
     "name": "stdout",
     "text": "15\n55\n5050\n"
    }
   ],
   "source": [
    "def sum_of_numbers (num):\n",
    "    total = 0\n",
    "    for i in range(num + 1):\n",
    "        total = total + i\n",
    "    print(total)\n",
    "\n",
    "sum_of_numbers(5)     # 15\n",
    "sum_of_numbers(10)    # 55\n",
    "sum_of_numbers(100)   # 5050"
   ]
  },
  {
   "cell_type": "markdown",
   "metadata": {},
   "source": [
    "<hr>**14.** Declare a function named sum_of_odds. It takes a number parameter and it adds all the odd numbers in that range."
   ]
  },
  {
   "cell_type": "code",
   "execution_count": 34,
   "metadata": {
    "tags": []
   },
   "outputs": [
    {
     "output_type": "stream",
     "name": "stdout",
     "text": "100\n625\n"
    }
   ],
   "source": [
    "def sum_of_odds (num):\n",
    "    total = 0\n",
    "    for i in range(1, num + 1, 2):\n",
    "        total = total + i\n",
    "    print(total)\n",
    "\n",
    "sum_of_odds(20)     # 100\n",
    "sum_of_odds(50)     # 625"
   ]
  },
  {
   "cell_type": "code",
   "execution_count": 30,
   "metadata": {
    "tags": []
   },
   "outputs": [
    {
     "output_type": "stream",
     "name": "stdout",
     "text": "100\n"
    }
   ],
   "source": [
    "print(1+3+5+7+9+11+13+15+17+19)"
   ]
  },
  {
   "cell_type": "markdown",
   "metadata": {},
   "source": [
    "<hr> **15.** Declare a function named sum_of_even. It takes a number parameter and it adds all the even numbers in that - range."
   ]
  },
  {
   "cell_type": "code",
   "execution_count": 110,
   "metadata": {
    "tags": []
   },
   "outputs": [
    {
     "output_type": "stream",
     "name": "stdout",
     "text": "The sum of even numbers between 0 to 20 is 110.\n"
    }
   ],
   "source": [
    "def sum_of_even (num):\n",
    "    total = 0\n",
    "    for i in range(0, num + 1, 2):\n",
    "        total = total + i\n",
    "    return (total)\n",
    "\n",
    "\n",
    "print(f\"The sum of even numbers between 0 to 20 is {sum_of_even(20)}.\")"
   ]
  },
  {
   "cell_type": "code",
   "execution_count": 42,
   "metadata": {
    "tags": []
   },
   "outputs": [
    {
     "output_type": "stream",
     "name": "stdout",
     "text": "110\n"
    }
   ],
   "source": [
    "print(0+2+4+6+8+10+12+14+16+18+20)"
   ]
  },
  {
   "cell_type": "markdown",
   "metadata": {},
   "source": [
    "<hr>**16.** Declare a function named evens_and_odds . It takes a positive integer as parameter and it counts number of evens and odds in the number."
   ]
  },
  {
   "cell_type": "code",
   "execution_count": 60,
   "metadata": {
    "tags": []
   },
   "outputs": [
    {
     "output_type": "stream",
     "name": "stdout",
     "text": "51\n50\n"
    }
   ],
   "source": [
    "def evens_and_odds(num):\n",
    "    count = 0\n",
    "    count2 = 0\n",
    "    for i in range(0, num + 1, 2):\n",
    "        count = count + 1\n",
    "    for i2 in range(1, num + 1, 2):\n",
    "        count2 = count2 + 1\n",
    "    print(count)\n",
    "    print(count2)\n",
    "\n",
    "evens_and_odds(100)\n",
    "# The number of evens are 51.\n",
    "# The number of odds are 50."
   ]
  },
  {
   "cell_type": "markdown",
   "metadata": {},
   "source": [
    "<hr> **17.** Call your function factorial, it takes a whole number as a parameter and it return a factorial of the number."
   ]
  },
  {
   "cell_type": "code",
   "execution_count": 105,
   "metadata": {
    "tags": []
   },
   "outputs": [
    {
     "output_type": "stream",
     "name": "stdout",
     "text": "120\n1\n3628800\nplease, enter a positive number.\n"
    }
   ],
   "source": [
    "def factorial(num):\n",
    "    total = 1\n",
    "    if num == 0:\n",
    "        total = 1\n",
    "    elif num > 1:\n",
    "        for i in range(1, num + 1):\n",
    "            total = total * i\n",
    "    else:\n",
    "        total = 'please, enter a positive number.'\n",
    "    print(total)\n",
    "\n",
    "factorial(5)\n",
    "factorial(0)\n",
    "factorial(10)\n",
    "factorial(-2)"
   ]
  },
  {
   "cell_type": "code",
   "execution_count": 121,
   "metadata": {
    "tags": []
   },
   "outputs": [
    {
     "output_type": "stream",
     "name": "stdout",
     "text": "The factorial of 0 is 1.\nThe factorial of 5 is: \n5! = 120\n"
    }
   ],
   "source": [
    "# or,\n",
    "def factorial2 (num):\n",
    "    total = 1\n",
    "    if num == 0:\n",
    "        total = 1\n",
    "    elif num > 1:\n",
    "        for i in range(1, num + 1):\n",
    "            total = total * i\n",
    "    else:\n",
    "        total = 'please, enter a positive number.'\n",
    "    return total\n",
    "\n",
    "print(f\"The factorial of 0 is {factorial2(0)}.\")\n",
    "print(f\"The factorial of 5 is: \\n5! = {factorial2(5)}\")\n"
   ]
  },
  {
   "cell_type": "code",
   "execution_count": 95,
   "metadata": {
    "tags": []
   },
   "outputs": [
    {
     "output_type": "stream",
     "name": "stdout",
     "text": "120\n3628800\n"
    }
   ],
   "source": [
    "print(5 * 4 * 3 * 2 * 1)\n",
    "print(10 * 9 * 8 * 7 * 6 * 5 * 4 * 3 * 2 * 1)"
   ]
  },
  {
   "cell_type": "markdown",
   "metadata": {},
   "source": [
    "<hr>**18.** Call your function is_empty, it takes a parameter and it checks if it is empty or not."
   ]
  },
  {
   "cell_type": "code",
   "execution_count": 131,
   "metadata": {
    "tags": []
   },
   "outputs": [
    {
     "output_type": "stream",
     "name": "stdout",
     "text": "False\nFalse\nTrue\nTrue\nTrue\nFalse\n"
    }
   ],
   "source": [
    "def is_empty (param):\n",
    "    if len(param) == 0:\n",
    "        return True\n",
    "    return False\n",
    "\n",
    "print(is_empty(\" \"))   # False\n",
    "print(is_empty(['r', 's', 't']))  # False\n",
    "print(is_empty([]))    # checking an empty list. (True)\n",
    "print(is_empty(()))    # checking an empty tuple.(True)\n",
    "print(is_empty({}))    # checking an empty set.  (True)\n",
    "print(is_empty(('red', 'orange')))    # checking a tuple.\n"
   ]
  },
  {
   "cell_type": "markdown",
   "metadata": {},
   "source": [
    "<hr>**19.** Write different functions which take lists. They should calculate_mean, calculate_median, calculate_mode, calculate_range, calculate_variance, calculate_std (standard deviation)."
   ]
  },
  {
   "cell_type": "code",
   "execution_count": 142,
   "metadata": {
    "tags": []
   },
   "outputs": [
    {
     "output_type": "stream",
     "name": "stdout",
     "text": "16\n"
    }
   ],
   "source": [
    "def calculate_total(lst):\n",
    "    total = 0 \n",
    "    for i in lst:\n",
    "        total = total + i\n",
    "    return total\n",
    "\n",
    "print(calculate_total([2, 4, 6, 4]))"
   ]
  },
  {
   "cell_type": "code",
   "execution_count": 145,
   "metadata": {
    "tags": []
   },
   "outputs": [
    {
     "output_type": "stream",
     "name": "stdout",
     "text": "4.0\n"
    }
   ],
   "source": [
    "def calculate_mean(lst):\n",
    "    total = 0\n",
    "    for i in lst:\n",
    "        total = total + i\n",
    "    num = len(lst)\n",
    "    mean = total / num\n",
    "    return mean\n",
    "\n",
    "print(calculate_mean([2, 4, 6, 4]))"
   ]
  },
  {
   "cell_type": "code",
   "execution_count": 158,
   "metadata": {
    "tags": []
   },
   "outputs": [
    {
     "output_type": "stream",
     "name": "stdout",
     "text": "4\n5.0\n"
    }
   ],
   "source": [
    "def calculate_median(lst):\n",
    "    lst.sort()\n",
    "    n = len(lst)\n",
    "    if n % 2 == 0:\n",
    "        m = int(len(lst) / 2)\n",
    "        n = m - 1\n",
    "        median = (lst[n] + lst[n + 1]) / 2\n",
    "    elif n % 2 != 0:\n",
    "        median_index = int((n + 1) / 2)\n",
    "        median = lst[median_index - 1]\n",
    "    return median\n",
    "\n",
    "print(calculate_median([2, 4, 6, 3, 7]))\n",
    "print(calculate_median([9, 4, 6, 3, 7, 2]))\n"
   ]
  },
  {
   "cell_type": "code",
   "execution_count": 154,
   "metadata": {},
   "outputs": [
    {
     "output_type": "execute_result",
     "data": {
      "text/plain": "4"
     },
     "metadata": {},
     "execution_count": 154
    }
   ],
   "source": [
    "import statistics\n",
    "statistics.median([2, 4, 6, 3, 7])"
   ]
  },
  {
   "cell_type": "code",
   "execution_count": 155,
   "metadata": {},
   "outputs": [
    {
     "output_type": "execute_result",
     "data": {
      "text/plain": "5.0"
     },
     "metadata": {},
     "execution_count": 155
    }
   ],
   "source": [
    "statistics.median([9, 4, 6, 3, 7, 2])"
   ]
  },
  {
   "cell_type": "markdown",
   "metadata": {},
   "source": [
    "<hr>**20.**Write a function called is_prime, which checks if a number is prime."
   ]
  },
  {
   "cell_type": "code",
   "execution_count": null,
   "metadata": {},
   "outputs": [],
   "source": [
    "def is_prime(num):\n",
    "    if num "
   ]
  }
 ]
}